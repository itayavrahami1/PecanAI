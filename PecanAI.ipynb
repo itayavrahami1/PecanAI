{
 "cells": [
  {
   "cell_type": "code",
   "execution_count": 2,
   "metadata": {},
   "outputs": [],
   "source": [
    "import pandas as pd\n",
    "import numpy as np\n",
    "import matplotlib.pyplot as plt\n",
    "import seaborn as sns\n",
    "import datetime"
   ]
  },
  {
   "cell_type": "code",
   "execution_count": 3,
   "metadata": {},
   "outputs": [],
   "source": [
    "test_df = pd.read_csv('data/test.csv')\n",
    "train_df = pd.read_csv('data/train.csv')\n",
    "val_df = pd.read_csv('data/val.csv')\n",
    "\n",
    "full_df = pd.concat([train_df, val_df])"
   ]
  },
  {
   "cell_type": "code",
   "execution_count": 24,
   "metadata": {},
   "outputs": [],
   "source": [
    "# train_df['Marker'] = train_df['Marker'].apply(lambda date: datetime.datetime.strptime(date, '%Y-%m-%d').timestamp())\n",
    "# val_df['Marker'] = val_df['Marker'].apply(lambda date: datetime.datetime.strptime(date, '%Y-%m-%d').timestamp())\n",
    "# train_df['Marker'] = train_df['Marker'].apply(lambda date: datetime.datetime.strptime(date, '%Y-%m-%d').timestamp())"
   ]
  },
  {
   "cell_type": "code",
   "execution_count": 14,
   "metadata": {},
   "outputs": [
    {
     "name": "stdout",
     "output_type": "stream",
     "text": [
      "HEAD\n",
      "Test\n",
      "        Marker  Label      pecan_id  category\n",
      "0  2019-07-01  152.0  446676599025     340.0\n",
      "1  2019-07-01    0.0  446676599035    1570.0\n",
      "2  2019-07-01   50.0  446676599084    1307.0\n",
      "3  2019-07-01  800.0  446676599211    1691.0\n",
      "4  2019-07-01  170.0  446676599290    1640.0\n",
      "Train\n",
      "        Marker   Label      pecan_id  category\n",
      "0  2017-10-01  9748.0  266287972570     485.0\n",
      "1  2017-10-01     0.0  266287972599    1242.0\n",
      "2  2017-10-01  1706.0  266287972633      14.0\n",
      "3  2017-10-01    50.0  266287972897    1001.0\n",
      "4  2017-10-01     0.0  266287972979    2235.0\n",
      "Val\n",
      "        Marker   Label      pecan_id  category\n",
      "0  2018-12-01     0.0  386547056868    2088.0\n",
      "1  2018-12-01   190.0  386547056988    1131.0\n",
      "2  2018-12-01     0.0  386547057099    2100.0\n",
      "3  2018-12-01  1798.0  386547057175      93.0\n",
      "4  2018-12-01   560.0  386547057368    1307.0\n"
     ]
    }
   ],
   "source": [
    "print('HEAD')\n",
    "print('Test\\n',test_df.head())\n",
    "print('Train\\n',train_df.head())\n",
    "print('Val\\n',val_df.head())"
   ]
  },
  {
   "cell_type": "code",
   "execution_count": 4,
   "metadata": {},
   "outputs": [
    {
     "name": "stdout",
     "output_type": "stream",
     "text": [
      "INFO\n",
      "Test\n",
      "<class 'pandas.core.frame.DataFrame'>\n",
      "RangeIndex: 13980 entries, 0 to 13979\n",
      "Data columns (total 4 columns):\n",
      "Marker      13980 non-null object\n",
      "Label       13980 non-null float64\n",
      "pecan_id    13980 non-null int64\n",
      "category    13980 non-null float64\n",
      "dtypes: float64(2), int64(1), object(1)\n",
      "memory usage: 437.0+ KB\n",
      "None \n",
      "\n",
      "Train\n",
      "<class 'pandas.core.frame.DataFrame'>\n",
      "RangeIndex: 95480 entries, 0 to 95479\n",
      "Data columns (total 4 columns):\n",
      "Marker      95480 non-null object\n",
      "Label       95480 non-null float64\n",
      "pecan_id    95480 non-null int64\n",
      "category    95480 non-null float64\n",
      "dtypes: float64(2), int64(1), object(1)\n",
      "memory usage: 2.9+ MB\n",
      "None \n",
      "\n",
      "Val\n",
      "<class 'pandas.core.frame.DataFrame'>\n",
      "RangeIndex: 13059 entries, 0 to 13058\n",
      "Data columns (total 4 columns):\n",
      "Marker      13059 non-null object\n",
      "Label       13059 non-null float64\n",
      "pecan_id    13059 non-null int64\n",
      "category    13059 non-null float64\n",
      "dtypes: float64(2), int64(1), object(1)\n",
      "memory usage: 408.2+ KB\n",
      "None \n",
      "\n"
     ]
    }
   ],
   "source": [
    "print('INFO')\n",
    "print('Test')\n",
    "print(test_df.info(),'\\n')\n",
    "print('Train')\n",
    "print(train_df.info(),'\\n')\n",
    "print('Val')\n",
    "print(val_df.info(),'\\n')"
   ]
  },
  {
   "cell_type": "code",
   "execution_count": 5,
   "metadata": {},
   "outputs": [
    {
     "name": "stdout",
     "output_type": "stream",
     "text": [
      "DESCRIBE\n",
      "Test\n",
      "              Label      pecan_id      category\n",
      "count  13980.000000  1.398000e+04  13980.000000\n",
      "mean    1331.791441  4.609311e+11    764.985694\n",
      "std     4226.818927  2.298027e+10    492.799552\n",
      "min        0.000000  4.294967e+11      0.000000\n",
      "25%        0.000000  4.380867e+11    349.000000\n",
      "50%      170.000000  4.552665e+11    708.500000\n",
      "75%      750.000000  4.810363e+11   1137.000000\n",
      "max    55872.000000  5.068061e+11   1962.000000 \n",
      "\n",
      "Train\n",
      "              Label      pecan_id      category\n",
      "count  95480.000000  9.548000e+04  95480.000000\n",
      "mean    1156.371008  2.020134e+11   1157.467501\n",
      "std     3889.129828  1.023314e+11    732.372370\n",
      "min    -2026.000000  0.000000e+00      0.000000\n",
      "25%        0.000000  1.202591e+11    533.000000\n",
      "50%      106.000000  2.061584e+11   1095.000000\n",
      "75%      700.000000  2.920578e+11   1718.000000\n",
      "max    86648.000000  3.693672e+11   2986.000000 \n",
      "\n",
      "Val\n",
      "              Label      pecan_id      category\n",
      "count  13059.000000  1.305900e+04  13059.000000\n",
      "mean    1461.703300  3.985028e+11   1094.678766\n",
      "std     4382.396271  1.459483e+10    640.108651\n",
      "min     -476.000000  3.779571e+11      0.000000\n",
      "25%        0.000000  3.865471e+11    544.000000\n",
      "50%      228.000000  3.951370e+11   1088.000000\n",
      "75%     1002.000000  4.123169e+11   1632.000000\n",
      "max    77310.000000  4.209068e+11   2408.000000 \n",
      "\n"
     ]
    }
   ],
   "source": [
    "print('DESCRIBE')\n",
    "print('Test')\n",
    "print(test_df.describe(),'\\n')\n",
    "print('Train')\n",
    "print(train_df.describe(),'\\n')\n",
    "print('Val')\n",
    "print(val_df.describe(),'\\n')"
   ]
  },
  {
   "cell_type": "code",
   "execution_count": null,
   "metadata": {},
   "outputs": [],
   "source": [
    "sns.barplot(x='pecan_id',y='Label',data=train_df,hue='Marker')"
   ]
  },
  {
   "cell_type": "code",
   "execution_count": 23,
   "metadata": {},
   "outputs": [
    {
     "data": {
      "text/plain": [
       "<matplotlib.axes._subplots.AxesSubplot at 0x22a7e82dd68>"
      ]
     },
     "execution_count": 23,
     "metadata": {},
     "output_type": "execute_result"
    },
    {
     "data": {
      "image/png": "[encoded data removed]",
      "text/plain": [
       "<Figure size 432x288 with 1 Axes>"
      ]
     },
     "metadata": {
      "needs_background": "light"
     },
     "output_type": "display_data"
    }
   ],
   "source": [
    "sns.barplot(x='Marker',y='Label',data=train_df)"
   ]
  },
  {
   "cell_type": "code",
   "execution_count": 10,
   "metadata": {},
   "outputs": [
    {
     "data": {
      "text/plain": [
       "Marker      35711\n",
       "Label       35711\n",
       "pecan_id    35711\n",
       "category    35711\n",
       "dtype: int64"
      ]
     },
     "execution_count": 10,
     "metadata": {},
     "output_type": "execute_result"
    }
   ],
   "source": [
    "train_df[train_df['Label']==0].count()"
   ]
  },
  {
   "cell_type": "code",
   "execution_count": 12,
   "metadata": {},
   "outputs": [
    {
     "data": {
      "text/plain": [
       "Marker      3711\n",
       "Label       3711\n",
       "pecan_id    3711\n",
       "category    3711\n",
       "dtype: int64"
      ]
     },
     "execution_count": 12,
     "metadata": {},
     "output_type": "execute_result"
    }
   ],
   "source": [
    "val_df[val_df['Label']==0].count()"
   ]
  },
  {
   "cell_type": "code",
   "execution_count": 20,
   "metadata": {},
   "outputs": [
    {
     "name": "stdout",
     "output_type": "stream",
     "text": [
      "train               Label      pecan_id      category\n",
      "count  59769.000000  5.976900e+04  59769.000000\n",
      "mean    1847.283774  2.020951e+11   1027.959410\n",
      "std     4783.961384  1.043505e+11    708.413195\n",
      "min    -2026.000000  0.000000e+00      0.000000\n",
      "25%      156.000000  1.202591e+11    427.000000\n",
      "50%      500.000000  2.061584e+11    915.000000\n",
      "75%     1404.000000  2.920578e+11   1547.000000\n",
      "max    86648.000000  3.693672e+11   2986.000000\n",
      "val               Label      pecan_id     category\n",
      "count   9348.000000  9.348000e+03  9348.000000\n",
      "mean    2041.975117  3.986720e+11  1095.698652\n",
      "std     5064.129493  1.457665e+10   642.901740\n",
      "min     -476.000000  3.779571e+11     0.000000\n",
      "25%      200.000000  3.865471e+11   540.000000\n",
      "50%      580.000000  3.951370e+11  1083.000000\n",
      "75%     1553.000000  4.123169e+11  1636.000000\n",
      "max    77310.000000  4.209068e+11  2408.000000\n",
      "test               Label      pecan_id      category\n",
      "count  10065.000000  1.006500e+04  10065.000000\n",
      "mean    1849.820600  4.620173e+11    757.696572\n",
      "std     4884.434456  2.387740e+10    502.767833\n",
      "min        2.000000  4.294967e+11      0.000000\n",
      "25%      108.000000  4.380867e+11    334.000000\n",
      "50%      400.000000  4.552665e+11    677.000000\n",
      "75%     1200.000000  4.810363e+11   1141.000000\n",
      "max    55872.000000  5.068061e+11   1962.000000\n"
     ]
    }
   ],
   "source": [
    "non_zero_train = train_df[train_df['Label'] != 0]\n",
    "non_zero_val = val_df[val_df['Label'] != 0]\n",
    "non_zero_test = test_df[test_df['Label'] != 0]\n",
    "\n",
    "print('train', non_zero_train.describe())\n",
    "print('val',non_zero_val.describe())\n",
    "print('test',non_zero_test.describe())"
   ]
  },
  {
   "cell_type": "code",
   "execution_count": 296,
   "metadata": {},
   "outputs": [],
   "source": [
    "full_df_non_zero = full_df[full_df['Label'] > 0]\n",
    "test_non_zero = test_df[test_df['Label'] > 0]"
   ]
  },
  {
   "cell_type": "code",
   "execution_count": 297,
   "metadata": {},
   "outputs": [
    {
     "data": {
      "text/html": [
       "<div>\n",
       "<style scoped>\n",
       "    .dataframe tbody tr th:only-of-type {\n",
       "        vertical-align: middle;\n",
       "    }\n",
       "\n",
       "    .dataframe tbody tr th {\n",
       "        vertical-align: top;\n",
       "    }\n",
       "\n",
       "    .dataframe thead th {\n",
       "        text-align: right;\n",
       "    }\n",
       "</style>\n",
       "<table border=\"1\" class=\"dataframe\">\n",
       "  <thead>\n",
       "    <tr style=\"text-align: right;\">\n",
       "      <th></th>\n",
       "      <th>Label</th>\n",
       "      <th>pecan_id</th>\n",
       "      <th>category</th>\n",
       "      <th>year</th>\n",
       "      <th>month</th>\n",
       "    </tr>\n",
       "  </thead>\n",
       "  <tbody>\n",
       "    <tr>\n",
       "      <th>count</th>\n",
       "      <td>69113.000000</td>\n",
       "      <td>6.911300e+04</td>\n",
       "      <td>69113.000000</td>\n",
       "      <td>69113.000000</td>\n",
       "      <td>69113.000000</td>\n",
       "    </tr>\n",
       "    <tr>\n",
       "      <th>mean</th>\n",
       "      <td>1873.767819</td>\n",
       "      <td>2.286800e+11</td>\n",
       "      <td>1037.109328</td>\n",
       "      <td>2016.931663</td>\n",
       "      <td>6.437023</td>\n",
       "    </tr>\n",
       "    <tr>\n",
       "      <th>std</th>\n",
       "      <td>4823.322107</td>\n",
       "      <td>1.181708e+11</td>\n",
       "      <td>700.294833</td>\n",
       "      <td>1.194434</td>\n",
       "      <td>3.509640</td>\n",
       "    </tr>\n",
       "    <tr>\n",
       "      <th>min</th>\n",
       "      <td>2.000000</td>\n",
       "      <td>0.000000e+00</td>\n",
       "      <td>0.000000</td>\n",
       "      <td>2015.000000</td>\n",
       "      <td>1.000000</td>\n",
       "    </tr>\n",
       "    <tr>\n",
       "      <th>25%</th>\n",
       "      <td>160.000000</td>\n",
       "      <td>1.288490e+11</td>\n",
       "      <td>443.000000</td>\n",
       "      <td>2016.000000</td>\n",
       "      <td>3.000000</td>\n",
       "    </tr>\n",
       "    <tr>\n",
       "      <th>50%</th>\n",
       "      <td>500.000000</td>\n",
       "      <td>2.319282e+11</td>\n",
       "      <td>938.000000</td>\n",
       "      <td>2017.000000</td>\n",
       "      <td>6.000000</td>\n",
       "    </tr>\n",
       "    <tr>\n",
       "      <th>75%</th>\n",
       "      <td>1420.000000</td>\n",
       "      <td>3.264175e+11</td>\n",
       "      <td>1561.000000</td>\n",
       "      <td>2018.000000</td>\n",
       "      <td>10.000000</td>\n",
       "    </tr>\n",
       "    <tr>\n",
       "      <th>max</th>\n",
       "      <td>86648.000000</td>\n",
       "      <td>4.209068e+11</td>\n",
       "      <td>2986.000000</td>\n",
       "      <td>2019.000000</td>\n",
       "      <td>12.000000</td>\n",
       "    </tr>\n",
       "  </tbody>\n",
       "</table>\n",
       "</div>"
      ],
      "text/plain": [
       "              Label      pecan_id      category          year         month\n",
       "count  69113.000000  6.911300e+04  69113.000000  69113.000000  69113.000000\n",
       "mean    1873.767819  2.286800e+11   1037.109328   2016.931663      6.437023\n",
       "std     4823.322107  1.181708e+11    700.294833      1.194434      3.509640\n",
       "min        2.000000  0.000000e+00      0.000000   2015.000000      1.000000\n",
       "25%      160.000000  1.288490e+11    443.000000   2016.000000      3.000000\n",
       "50%      500.000000  2.319282e+11    938.000000   2017.000000      6.000000\n",
       "75%     1420.000000  3.264175e+11   1561.000000   2018.000000     10.000000\n",
       "max    86648.000000  4.209068e+11   2986.000000   2019.000000     12.000000"
      ]
     },
     "execution_count": 297,
     "metadata": {},
     "output_type": "execute_result"
    }
   ],
   "source": [
    "full_df_non_zero.describe()"
   ]
  },
  {
   "cell_type": "code",
   "execution_count": 292,
   "metadata": {},
   "outputs": [
    {
     "data": {
      "text/plain": [
       "<matplotlib.axes._subplots.AxesSubplot at 0x2615a8a8fd0>"
      ]
     },
     "execution_count": 292,
     "metadata": {},
     "output_type": "execute_result"
    },
    {
     "data": {
      "image/png": "[encoded data removed]",
      "text/plain": [
       "<Figure size 432x288 with 1 Axes>"
      ]
     },
     "metadata": {
      "needs_background": "light"
     },
     "output_type": "display_data"
    }
   ],
   "source": [
    "sns.distplot(full_df_non_zero['Label'])"
   ]
  },
  {
   "cell_type": "code",
   "execution_count": 37,
   "metadata": {},
   "outputs": [
    {
     "name": "stdout",
     "output_type": "stream",
     "text": [
      "train               Label      pecan_id      category\n",
      "count  57448.000000  5.744800e+04  57448.000000\n",
      "mean    1078.552058  2.030586e+11   1050.444245\n",
      "std     1633.119593  1.041244e+11    708.574745\n",
      "min        2.000000  0.000000e+00      0.000000\n",
      "25%      150.000000  1.202591e+11    455.000000\n",
      "50%      450.000000  2.061584e+11    948.000000\n",
      "75%     1200.000000  2.920578e+11   1568.000000\n",
      "max     9994.000000  3.693672e+11   2986.000000\n",
      "val              Label      pecan_id     category\n",
      "count  7930.000000  7.930000e+03  7930.000000\n",
      "mean    820.025811  3.984473e+11  1097.517654\n",
      "std    1518.862876  1.455549e+10   644.237318\n",
      "min    -476.000000  3.779571e+11     0.000000\n",
      "25%       0.000000  3.865471e+11   545.250000\n",
      "50%     200.000000  3.951370e+11  1091.000000\n",
      "75%     950.000000  4.123169e+11  1639.000000\n",
      "max    9980.000000  4.209068e+11  2405.000000\n",
      "test              Label      pecan_id     category\n",
      "count  9584.000000  9.584000e+03  9584.000000\n",
      "mean    952.066185  4.619662e+11   771.914232\n",
      "std    1547.865726  2.380374e+10   505.278393\n",
      "min       2.000000  4.294967e+11     0.000000\n",
      "25%     100.000000  4.380867e+11   337.000000\n",
      "50%     388.000000  4.552665e+11   712.000000\n",
      "75%    1000.000000  4.810363e+11  1160.000000\n",
      "max    9996.000000  5.068061e+11  1962.000000\n"
     ]
    },
    {
     "name": "stderr",
     "output_type": "stream",
     "text": [
      "C:\\Users\\itay.a\\AppData\\Local\\Continuum\\anaconda3\\lib\\site-packages\\ipykernel_launcher.py:2: UserWarning: Boolean Series key will be reindexed to match DataFrame index.\n",
      "  \n"
     ]
    }
   ],
   "source": [
    "major_train = train_df[(train_df['Label'] < 10000) & (train_df['Label'] > 0)]\n",
    "major_val = val_df[(val_df['Label'] < 10000) & (train_df['Label'] > 0)]\n",
    "major_test = test_df[(test_df['Label'] < 10000) & (test_df['Label'] > 0)]\n",
    "\n",
    "print('train', major_train.describe())\n",
    "print('val',major_val.describe())\n",
    "print('test',major_test.describe())"
   ]
  },
  {
   "cell_type": "code",
   "execution_count": 22,
   "metadata": {},
   "outputs": [
    {
     "data": {
      "text/plain": [
       "<matplotlib.axes._subplots.AxesSubplot at 0x23b665fb748>"
      ]
     },
     "execution_count": 22,
     "metadata": {},
     "output_type": "execute_result"
    },
    {
     "data": {
      "image/png": "[encoded data removed]",
      "text/plain": [
       "<Figure size 432x288 with 1 Axes>"
      ]
     },
     "metadata": {
      "needs_background": "light"
     },
     "output_type": "display_data"
    }
   ],
   "source": [
    "sns.distplot(val_df['Label'])"
   ]
  },
  {
   "cell_type": "code",
   "execution_count": 34,
   "metadata": {},
   "outputs": [
    {
     "data": {
      "text/plain": [
       "<matplotlib.axes._subplots.AxesSubplot at 0x23b6632edd8>"
      ]
     },
     "execution_count": 34,
     "metadata": {},
     "output_type": "execute_result"
    },
    {
     "data": {
      "image/png": "[encoded data removed]",
      "text/plain": [
       "<Figure size 432x288 with 1 Axes>"
      ]
     },
     "metadata": {
      "needs_background": "light"
     },
     "output_type": "display_data"
    }
   ],
   "source": [
    "sns.distplot(train_df[train_df['Label']<3000]['Label'])"
   ]
  },
  {
   "cell_type": "code",
   "execution_count": 10,
   "metadata": {},
   "outputs": [
    {
     "data": {
      "text/plain": [
       "(0, 5000)"
      ]
     },
     "execution_count": 10,
     "metadata": {},
     "output_type": "execute_result"
    },
    {
     "data": {
      "image/png": "[encoded data removed]",
      "text/plain": [
       "<Figure size 432x288 with 1 Axes>"
      ]
     },
     "metadata": {
      "needs_background": "light"
     },
     "output_type": "display_data"
    }
   ],
   "source": [
    "sns.distplot(test_df['Label'])\n",
    "plt.xlim(0,5000)"
   ]
  },
  {
   "cell_type": "code",
   "execution_count": null,
   "metadata": {},
   "outputs": [
    {
     "data": {
      "text/plain": [
       "<matplotlib.axes._subplots.AxesSubplot at 0x2ab37c315c0>"
      ]
     },
     "execution_count": 11,
     "metadata": {},
     "output_type": "execute_result"
    }
   ],
   "source": []
  },
  {
   "cell_type": "code",
   "execution_count": 26,
   "metadata": {},
   "outputs": [
    {
     "data": {
      "text/plain": [
       "Marker      75634\n",
       "Label       75634\n",
       "pecan_id    75634\n",
       "category    75634\n",
       "dtype: int64"
      ]
     },
     "execution_count": 26,
     "metadata": {},
     "output_type": "execute_result"
    }
   ],
   "source": [
    "train_df[train_df['Label']<1000].count()"
   ]
  },
  {
   "cell_type": "code",
   "execution_count": 4,
   "metadata": {},
   "outputs": [
    {
     "name": "stdout",
     "output_type": "stream",
     "text": [
      "                  Label      pecan_id     category\n",
      "Marker                                            \n",
      "2015-02-01  3102.124711  2.160000e+02   395.762125\n",
      "2015-03-01  2480.990827  7.685000e+02   516.032738\n",
      "2015-04-01  1921.603220  8.589935e+09   632.938494\n",
      "2015-05-01  1778.314121  1.717987e+10   737.881298\n",
      "2015-06-01  1369.015607  2.576980e+10   783.905618\n",
      "2015-07-01  1369.224957  3.435974e+10   836.179245\n",
      "2015-08-01  1332.219006  4.294967e+10   883.577093\n",
      "2015-09-01  1375.099174  5.153961e+10   923.326446\n",
      "2015-10-01  1394.473923  6.012954e+10   948.869048\n",
      "2015-11-01  1341.785408  6.871948e+10   982.477468\n",
      "2015-12-01  1412.358382  7.730941e+10   995.354703\n",
      "2016-01-01  1280.325178  8.589935e+10  1021.307849\n",
      "2016-02-01  1384.743424  9.448928e+10  1050.525062\n",
      "2016-03-01  1309.507752  1.030792e+11  1069.509205\n",
      "2016-04-01  1232.602487  1.116692e+11  1121.103639\n",
      "2016-05-01  1224.733722  1.202591e+11  1143.510552\n",
      "2016-06-01  1159.381333  1.288490e+11  1151.325333\n",
      "2016-07-01  1167.344737  1.374390e+11  1162.889035\n",
      "2016-08-01  1074.793059  1.460289e+11  1167.715401\n",
      "2016-09-01  1142.961054  1.546188e+11  1177.543814\n",
      "2016-10-01  1102.794959  1.632088e+11  1189.536958\n",
      "2016-11-01  1082.460668  1.717987e+11  1187.414261\n",
      "2016-12-01  1187.690216  1.803886e+11  1196.635828\n",
      "2017-01-01  1120.585130  1.889786e+11  1211.174129\n",
      "2017-02-01  1120.459568  1.975685e+11  1216.910029\n",
      "2017-03-01   979.942170  2.061584e+11  1232.074225\n",
      "2017-04-01  1017.278902  2.147484e+11  1226.289344\n",
      "2017-05-01   946.412768  2.233383e+11  1232.231553\n",
      "2017-06-01   878.491722  2.319282e+11  1243.386823\n",
      "2017-07-01   980.654791  2.405182e+11  1245.699476\n",
      "2017-08-01   926.305566  2.491081e+11  1248.864332\n",
      "2017-09-01   934.490629  2.576980e+11  1260.928543\n",
      "2017-10-01   945.564752  2.662880e+11  1264.349422\n",
      "2017-11-01  1006.110205  2.748779e+11  1269.596338\n",
      "2017-12-01  1002.959631  2.834678e+11  1269.946129\n",
      "2018-01-01   939.944029  2.920578e+11  1271.851140\n",
      "2018-02-01  1005.790459  3.006477e+11  1266.778315\n",
      "2018-03-01  1046.699527  3.092376e+11  1269.041146\n",
      "2018-04-01  1126.208282  3.178276e+11  1252.316933\n",
      "2018-05-01  1108.113223  3.264175e+11  1247.124793\n",
      "2018-06-01  1070.221759  3.350075e+11  1243.283451\n",
      "2018-07-01  1116.693787  3.435974e+11  1254.793189\n",
      "2018-08-01  1157.967098  3.521873e+11  1262.356551\n",
      "2018-09-01  1186.411319  3.607773e+11  1262.717874\n",
      "2018-10-01  1154.419721  3.693672e+11  1258.744186\n"
     ]
    },
    {
     "data": {
      "text/plain": [
       "Text(0, 0.5, 'Sales avg by date')"
      ]
     },
     "execution_count": 4,
     "metadata": {},
     "output_type": "execute_result"
    },
    {
     "data": {
      "image/png": "[encoded data removed]",
      "text/plain": [
       "<Figure size 1296x576 with 1 Axes>"
      ]
     },
     "metadata": {
      "needs_background": "light"
     },
     "output_type": "display_data"
    }
   ],
   "source": [
    "fig, ax = plt.subplots(figsize=(18,8))\n",
    "\n",
    "avg_train_by_date = train_df.groupby('Marker').mean()\n",
    "print(avg_train_by_date)\n",
    "date = pd.Series(train_df['Marker'].unique()).sort_values().apply(lambda date: date[2:7])\n",
    "\n",
    "plt.bar(date,avg_train_by_date['Label'])\n",
    "ax.xaxis.set_major_locator(plt.MaxNLocator(25))\n",
    "plt.xlabel('Date')\n",
    "plt.ylabel('Sales avg by date')"
   ]
  },
  {
   "cell_type": "code",
   "execution_count": 19,
   "metadata": {},
   "outputs": [
    {
     "name": "stdout",
     "output_type": "stream",
     "text": [
      "['2018-12-01' '2019-01-01' '2019-04-01' '2019-02-01' '2018-11-01'\n",
      " '2019-03-01']\n"
     ]
    },
    {
     "data": {
      "text/plain": [
       "Text(0, 0.5, 'Sales avg by date')"
      ]
     },
     "execution_count": 19,
     "metadata": {},
     "output_type": "execute_result"
    },
    {
     "data": {
      "image/png": "[encoded data removed]",
      "text/plain": [
       "<Figure size 1296x576 with 1 Axes>"
      ]
     },
     "metadata": {
      "needs_background": "light"
     },
     "output_type": "display_data"
    }
   ],
   "source": [
    "fig, ax = plt.subplots(figsize=(18,8))\n",
    "print(val_df['Marker'].unique())\n",
    "avg_val_by_date = val_df.groupby('Marker').mean()\n",
    "date = pd.Series(val_df['Marker'].unique()).sort_values().apply(lambda date: date[2:7])\n",
    "\n",
    "plt.bar(date,avg_val_by_date['Label'])\n",
    "# ax.xaxis.set_major_locator(plt.MaxNLocator(25))\n",
    "plt.xlabel('Date')\n",
    "plt.ylabel('Sales avg by date')"
   ]
  },
  {
   "cell_type": "code",
   "execution_count": 84,
   "metadata": {},
   "outputs": [
    {
     "name": "stdout",
     "output_type": "stream",
     "text": [
      "2017-10-01 <class 'str'>\n"
     ]
    }
   ],
   "source": [
    "import datetime\n",
    "train_df['date'] = train_df['Marker'].apply(lambda date: datetime.datetime.strptime(date,\"%Y-%m-%d\"))\n",
    "print(train_df['Marker'].iloc[0],type(train_df['Marker'].iloc[0]))"
   ]
  },
  {
   "cell_type": "code",
   "execution_count": 91,
   "metadata": {},
   "outputs": [
    {
     "data": {
      "text/plain": [
       "{'2019-05-01',\n",
       " '2019-06-01',\n",
       " '2019-07-01',\n",
       " '2019-08-01',\n",
       " '2019-09-01',\n",
       " '2019-10-01',\n",
       " '2019-11-01',\n",
       " '2019-12-01',\n",
       " '2020-01-01',\n",
       " '2020-02-01'}"
      ]
     },
     "execution_count": 91,
     "metadata": {},
     "output_type": "execute_result"
    }
   ],
   "source": [
    "set(test_df['Marker']).difference(set(val_df['Marker']))"
   ]
  },
  {
   "cell_type": "code",
   "execution_count": 22,
   "metadata": {},
   "outputs": [
    {
     "data": {
      "text/plain": [
       "<seaborn.axisgrid.PairGrid at 0x148fd1a87f0>"
      ]
     },
     "execution_count": 22,
     "metadata": {},
     "output_type": "execute_result"
    },
    {
     "data": {
      "image/png": "[encoded data removed]",
      "text/plain": [
       "<Figure size 720x720 with 20 Axes>"
      ]
     },
     "metadata": {
      "needs_background": "light"
     },
     "output_type": "display_data"
    }
   ],
   "source": [
    "sns.pairplot(train_df)"
   ]
  },
  {
   "cell_type": "code",
   "execution_count": 4,
   "metadata": {},
   "outputs": [
    {
     "name": "stdout",
     "output_type": "stream",
     "text": [
      "[1.5068052e+09 1.5015348e+09 1.4883192e+09 1.4935860e+09 1.5225300e+09\n",
      " 1.5251220e+09 1.4832216e+09 1.5303924e+09 1.5357492e+09 1.5383412e+09\n",
      " 1.4726772e+09 1.4699988e+09 1.4594580e+09 1.4489208e+09 1.5042132e+09\n",
      " 1.5120792e+09 1.5147576e+09 1.5174360e+09 1.4962644e+09 1.4988564e+09\n",
      " 1.4909940e+09 1.4673204e+09 1.4647284e+09 1.4620500e+09 1.4567832e+09\n",
      " 1.4542776e+09 1.4463288e+09 1.4410548e+09 1.4383764e+09 1.4331060e+09\n",
      " 1.4278356e+09 1.5094872e+09 1.5198552e+09 1.4859000e+09 1.5330708e+09\n",
      " 1.5278004e+09 1.4805432e+09 1.4779512e+09 1.4752692e+09 1.4515992e+09\n",
      " 1.4436468e+09 1.4356980e+09 1.4304276e+09 1.4227416e+09 1.4251608e+09]\n",
      "['2019-07-01' '2019-10-01' '2019-11-01' '2019-12-01' '2020-01-01'\n",
      " '2019-05-01' '2019-06-01' '2019-08-01' '2019-09-01' '2020-02-01']\n",
      "['2018-12-01' '2019-01-01' '2019-04-01' '2019-02-01' '2018-11-01'\n",
      " '2019-03-01']\n"
     ]
    }
   ],
   "source": [
    "print(train_df['Marker'].unique())\n",
    "print(test_df['Marker'].unique())\n",
    "print(val_df['Marker'].unique())"
   ]
  },
  {
   "cell_type": "code",
   "execution_count": 9,
   "metadata": {},
   "outputs": [
    {
     "name": "stdout",
     "output_type": "stream",
     "text": [
      "2987\n",
      "1963\n",
      "2409\n"
     ]
    }
   ],
   "source": [
    "print(len(train_df['category'].unique()))\n",
    "print(len(test_df['category'].unique()))\n",
    "print(len(val_df['category'].unique()))"
   ]
  },
  {
   "cell_type": "code",
   "execution_count": 15,
   "metadata": {},
   "outputs": [
    {
     "data": {
      "text/plain": [
       "<BarContainer object of 44 artists>"
      ]
     },
     "execution_count": 15,
     "metadata": {},
     "output_type": "execute_result"
    },
    {
     "data": {
      "image/png": "[encoded data removed]",
      "text/plain": [
       "<Figure size 1296x576 with 1 Axes>"
      ]
     },
     "metadata": {
      "needs_background": "light"
     },
     "output_type": "display_data"
    }
   ],
   "source": [
    "plt.figure(figsize=(18,8))\n",
    "cat_485 = train_df[train_df['category'] == 485]\n",
    "dates = pd.Series(cat_485['Marker'].unique()).sort_values()\n",
    "plt.bar(x=dates,height=cat_485['Label'])"
   ]
  },
  {
   "cell_type": "code",
   "execution_count": 33,
   "metadata": {},
   "outputs": [
    {
     "data": {
      "text/plain": [
       "2987"
      ]
     },
     "execution_count": 33,
     "metadata": {},
     "output_type": "execute_result"
    }
   ],
   "source": [
    "len(full_df['category'].unique())"
   ]
  },
  {
   "cell_type": "code",
   "execution_count": 30,
   "metadata": {},
   "outputs": [
    {
     "data": {
      "text/plain": [
       "<matplotlib.axes._subplots.AxesSubplot at 0x21981509e48>"
      ]
     },
     "execution_count": 30,
     "metadata": {},
     "output_type": "execute_result"
    },
    {
     "data": {
      "image/png": "[encoded data removed]",
      "text/plain": [
       "<Figure size 1440x720 with 1 Axes>"
      ]
     },
     "metadata": {
      "needs_background": "light"
     },
     "output_type": "display_data"
    }
   ],
   "source": [
    "plt.figure(figsize=(20,10))\n",
    "sns.countplot(full_df['category'])"
   ]
  },
  {
   "cell_type": "code",
   "execution_count": 35,
   "metadata": {},
   "outputs": [
    {
     "data": {
      "text/plain": [
       "<matplotlib.axes._subplots.AxesSubplot at 0x2198dcb1630>"
      ]
     },
     "execution_count": 35,
     "metadata": {},
     "output_type": "execute_result"
    },
    {
     "data": {
      "image/png": "[encoded data removed]",
      "text/plain": [
       "<Figure size 1440x720 with 1 Axes>"
      ]
     },
     "metadata": {
      "needs_background": "light"
     },
     "output_type": "display_data"
    }
   ],
   "source": [
    "plt.figure(figsize=(20,10))\n",
    "full_df.groupby('category').mean()['Label'].plot()"
   ]
  },
  {
   "cell_type": "code",
   "execution_count": 6,
   "metadata": {},
   "outputs": [
    {
     "data": {
      "text/html": [
       "<div>\n",
       "<style scoped>\n",
       "    .dataframe tbody tr th:only-of-type {\n",
       "        vertical-align: middle;\n",
       "    }\n",
       "\n",
       "    .dataframe tbody tr th {\n",
       "        vertical-align: top;\n",
       "    }\n",
       "\n",
       "    .dataframe thead th {\n",
       "        text-align: right;\n",
       "    }\n",
       "</style>\n",
       "<table border=\"1\" class=\"dataframe\">\n",
       "  <thead>\n",
       "    <tr style=\"text-align: right;\">\n",
       "      <th></th>\n",
       "      <th>count</th>\n",
       "      <th>mean</th>\n",
       "      <th>std</th>\n",
       "      <th>min</th>\n",
       "      <th>25%</th>\n",
       "      <th>50%</th>\n",
       "      <th>75%</th>\n",
       "      <th>max</th>\n",
       "    </tr>\n",
       "  </thead>\n",
       "  <tbody>\n",
       "    <tr>\n",
       "      <th>Label</th>\n",
       "      <td>108539.0</td>\n",
       "      <td>1.193107e+03</td>\n",
       "      <td>3.952964e+03</td>\n",
       "      <td>-2026.0</td>\n",
       "      <td>0.000000e+00</td>\n",
       "      <td>1.200000e+02</td>\n",
       "      <td>7.500000e+02</td>\n",
       "      <td>8.664800e+04</td>\n",
       "    </tr>\n",
       "    <tr>\n",
       "      <th>pecan_id</th>\n",
       "      <td>108539.0</td>\n",
       "      <td>2.256543e+11</td>\n",
       "      <td>1.154285e+11</td>\n",
       "      <td>0.0</td>\n",
       "      <td>1.288490e+11</td>\n",
       "      <td>2.319282e+11</td>\n",
       "      <td>3.264175e+11</td>\n",
       "      <td>4.209068e+11</td>\n",
       "    </tr>\n",
       "    <tr>\n",
       "      <th>category</th>\n",
       "      <td>108539.0</td>\n",
       "      <td>1.149913e+03</td>\n",
       "      <td>7.221821e+02</td>\n",
       "      <td>0.0</td>\n",
       "      <td>5.340000e+02</td>\n",
       "      <td>1.094000e+03</td>\n",
       "      <td>1.706000e+03</td>\n",
       "      <td>2.986000e+03</td>\n",
       "    </tr>\n",
       "  </tbody>\n",
       "</table>\n",
       "</div>"
      ],
      "text/plain": [
       "             count          mean           std     min           25%  \\\n",
       "Label     108539.0  1.193107e+03  3.952964e+03 -2026.0  0.000000e+00   \n",
       "pecan_id  108539.0  2.256543e+11  1.154285e+11     0.0  1.288490e+11   \n",
       "category  108539.0  1.149913e+03  7.221821e+02     0.0  5.340000e+02   \n",
       "\n",
       "                   50%           75%           max  \n",
       "Label     1.200000e+02  7.500000e+02  8.664800e+04  \n",
       "pecan_id  2.319282e+11  3.264175e+11  4.209068e+11  \n",
       "category  1.094000e+03  1.706000e+03  2.986000e+03  "
      ]
     },
     "execution_count": 6,
     "metadata": {},
     "output_type": "execute_result"
    }
   ],
   "source": [
    "full_df.describe().transpose()"
   ]
  },
  {
   "cell_type": "code",
   "execution_count": 17,
   "metadata": {},
   "outputs": [
    {
     "data": {
      "text/plain": [
       "2987"
      ]
     },
     "execution_count": 17,
     "metadata": {},
     "output_type": "execute_result"
    }
   ],
   "source": [
    "len(full_df['category'].unique())"
   ]
  },
  {
   "cell_type": "code",
   "execution_count": 19,
   "metadata": {},
   "outputs": [
    {
     "data": {
      "text/plain": [
       "1963"
      ]
     },
     "execution_count": 19,
     "metadata": {},
     "output_type": "execute_result"
    }
   ],
   "source": [
    "len(test_df['category'].unique())"
   ]
  },
  {
   "cell_type": "code",
   "execution_count": 10,
   "metadata": {},
   "outputs": [
    {
     "data": {
      "text/plain": [
       "1024"
      ]
     },
     "execution_count": 10,
     "metadata": {},
     "output_type": "execute_result"
    }
   ],
   "source": [
    "len(set(full_df['category']).difference(set(test_df['category'])))"
   ]
  },
  {
   "cell_type": "code",
   "execution_count": 26,
   "metadata": {},
   "outputs": [
    {
     "data": {
      "text/html": [
       "<div>\n",
       "<style scoped>\n",
       "    .dataframe tbody tr th:only-of-type {\n",
       "        vertical-align: middle;\n",
       "    }\n",
       "\n",
       "    .dataframe tbody tr th {\n",
       "        vertical-align: top;\n",
       "    }\n",
       "\n",
       "    .dataframe thead th {\n",
       "        text-align: right;\n",
       "    }\n",
       "</style>\n",
       "<table border=\"1\" class=\"dataframe\">\n",
       "  <thead>\n",
       "    <tr style=\"text-align: right;\">\n",
       "      <th></th>\n",
       "      <th>Label</th>\n",
       "      <th>pecan_id</th>\n",
       "      <th>category</th>\n",
       "    </tr>\n",
       "    <tr>\n",
       "      <th>Marker</th>\n",
       "      <th></th>\n",
       "      <th></th>\n",
       "      <th></th>\n",
       "    </tr>\n",
       "  </thead>\n",
       "  <tbody>\n",
       "    <tr>\n",
       "      <th>2015-02-01</th>\n",
       "      <td>1.343220e+06</td>\n",
       "      <td>93528</td>\n",
       "      <td>171365.0</td>\n",
       "    </tr>\n",
       "    <tr>\n",
       "      <th>2015-03-01</th>\n",
       "      <td>1.667226e+06</td>\n",
       "      <td>516432</td>\n",
       "      <td>346774.0</td>\n",
       "    </tr>\n",
       "    <tr>\n",
       "      <th>2015-04-01</th>\n",
       "      <td>1.812072e+06</td>\n",
       "      <td>8100308764409</td>\n",
       "      <td>596861.0</td>\n",
       "    </tr>\n",
       "    <tr>\n",
       "      <th>2015-05-01</th>\n",
       "      <td>2.082406e+06</td>\n",
       "      <td>20117627499499</td>\n",
       "      <td>864059.0</td>\n",
       "    </tr>\n",
       "    <tr>\n",
       "      <th>2015-06-01</th>\n",
       "      <td>1.827636e+06</td>\n",
       "      <td>34402688931405</td>\n",
       "      <td>1046514.0</td>\n",
       "    </tr>\n",
       "    <tr>\n",
       "      <th>2015-07-01</th>\n",
       "      <td>2.031930e+06</td>\n",
       "      <td>50989852838498</td>\n",
       "      <td>1240890.0</td>\n",
       "    </tr>\n",
       "    <tr>\n",
       "      <th>2015-08-01</th>\n",
       "      <td>2.116896e+06</td>\n",
       "      <td>68247031595106</td>\n",
       "      <td>1404004.0</td>\n",
       "    </tr>\n",
       "    <tr>\n",
       "      <th>2015-09-01</th>\n",
       "      <td>2.329418e+06</td>\n",
       "      <td>87308096627059</td>\n",
       "      <td>1564115.0</td>\n",
       "    </tr>\n",
       "    <tr>\n",
       "      <th>2015-10-01</th>\n",
       "      <td>2.459852e+06</td>\n",
       "      <td>106068513896982</td>\n",
       "      <td>1673805.0</td>\n",
       "    </tr>\n",
       "    <tr>\n",
       "      <th>2015-11-01</th>\n",
       "      <td>2.501088e+06</td>\n",
       "      <td>128093106372220</td>\n",
       "      <td>1831338.0</td>\n",
       "    </tr>\n",
       "    <tr>\n",
       "      <th>2015-12-01</th>\n",
       "      <td>2.687718e+06</td>\n",
       "      <td>147119811566937</td>\n",
       "      <td>1894160.0</td>\n",
       "    </tr>\n",
       "    <tr>\n",
       "      <th>2016-01-01</th>\n",
       "      <td>2.511998e+06</td>\n",
       "      <td>168534518618781</td>\n",
       "      <td>2003806.0</td>\n",
       "    </tr>\n",
       "    <tr>\n",
       "      <th>2016-02-01</th>\n",
       "      <td>2.790258e+06</td>\n",
       "      <td>190395902260785</td>\n",
       "      <td>2116808.0</td>\n",
       "    </tr>\n",
       "    <tr>\n",
       "      <th>2016-03-01</th>\n",
       "      <td>2.702824e+06</td>\n",
       "      <td>212755502103672</td>\n",
       "      <td>2207467.0</td>\n",
       "    </tr>\n",
       "    <tr>\n",
       "      <th>2016-04-01</th>\n",
       "      <td>2.675980e+06</td>\n",
       "      <td>242433726345551</td>\n",
       "      <td>2433916.0</td>\n",
       "    </tr>\n",
       "    <tr>\n",
       "      <th>2016-05-01</th>\n",
       "      <td>2.727482e+06</td>\n",
       "      <td>267816983188027</td>\n",
       "      <td>2546598.0</td>\n",
       "    </tr>\n",
       "    <tr>\n",
       "      <th>2016-06-01</th>\n",
       "      <td>2.608608e+06</td>\n",
       "      <td>289910295010125</td>\n",
       "      <td>2590482.0</td>\n",
       "    </tr>\n",
       "    <tr>\n",
       "      <th>2016-07-01</th>\n",
       "      <td>2.661546e+06</td>\n",
       "      <td>313360816514220</td>\n",
       "      <td>2651387.0</td>\n",
       "    </tr>\n",
       "    <tr>\n",
       "      <th>2016-08-01</th>\n",
       "      <td>2.477398e+06</td>\n",
       "      <td>336596589642880</td>\n",
       "      <td>2691584.0</td>\n",
       "    </tr>\n",
       "    <tr>\n",
       "      <th>2016-09-01</th>\n",
       "      <td>2.660813e+06</td>\n",
       "      <td>359952621851796</td>\n",
       "      <td>2741322.0</td>\n",
       "    </tr>\n",
       "    <tr>\n",
       "      <th>2016-10-01</th>\n",
       "      <td>2.595979e+06</td>\n",
       "      <td>384193417331273</td>\n",
       "      <td>2800170.0</td>\n",
       "    </tr>\n",
       "    <tr>\n",
       "      <th>2016-11-01</th>\n",
       "      <td>2.550277e+06</td>\n",
       "      <td>404757720749230</td>\n",
       "      <td>2797548.0</td>\n",
       "    </tr>\n",
       "    <tr>\n",
       "      <th>2016-12-01</th>\n",
       "      <td>2.824327e+06</td>\n",
       "      <td>428964156481549</td>\n",
       "      <td>2845600.0</td>\n",
       "    </tr>\n",
       "    <tr>\n",
       "      <th>2017-01-01</th>\n",
       "      <td>2.702851e+06</td>\n",
       "      <td>455816292097554</td>\n",
       "      <td>2921352.0</td>\n",
       "    </tr>\n",
       "    <tr>\n",
       "      <th>2017-02-01</th>\n",
       "      <td>2.714874e+06</td>\n",
       "      <td>478708467811821</td>\n",
       "      <td>2948573.0</td>\n",
       "    </tr>\n",
       "    <tr>\n",
       "      <th>2017-03-01</th>\n",
       "      <td>2.402818e+06</td>\n",
       "      <td>505500473874942</td>\n",
       "      <td>3021046.0</td>\n",
       "    </tr>\n",
       "    <tr>\n",
       "      <th>2017-04-01</th>\n",
       "      <td>2.482161e+06</td>\n",
       "      <td>523986013087580</td>\n",
       "      <td>2992146.0</td>\n",
       "    </tr>\n",
       "    <tr>\n",
       "      <th>2017-05-01</th>\n",
       "      <td>2.321551e+06</td>\n",
       "      <td>547848851415954</td>\n",
       "      <td>3022664.0</td>\n",
       "    </tr>\n",
       "    <tr>\n",
       "      <th>2017-06-01</th>\n",
       "      <td>2.173389e+06</td>\n",
       "      <td>573790453935517</td>\n",
       "      <td>3076139.0</td>\n",
       "    </tr>\n",
       "    <tr>\n",
       "      <th>2017-07-01</th>\n",
       "      <td>2.431043e+06</td>\n",
       "      <td>596244542971385</td>\n",
       "      <td>3088089.0</td>\n",
       "    </tr>\n",
       "    <tr>\n",
       "      <th>2017-08-01</th>\n",
       "      <td>2.300943e+06</td>\n",
       "      <td>618784531353198</td>\n",
       "      <td>3102179.0</td>\n",
       "    </tr>\n",
       "    <tr>\n",
       "      <th>2017-09-01</th>\n",
       "      <td>2.340899e+06</td>\n",
       "      <td>645533587725060</td>\n",
       "      <td>3158626.0</td>\n",
       "    </tr>\n",
       "    <tr>\n",
       "      <th>2017-10-01</th>\n",
       "      <td>2.370531e+06</td>\n",
       "      <td>667583949827735</td>\n",
       "      <td>3169724.0</td>\n",
       "    </tr>\n",
       "    <tr>\n",
       "      <th>2017-11-01</th>\n",
       "      <td>2.527349e+06</td>\n",
       "      <td>690493305397144</td>\n",
       "      <td>3189226.0</td>\n",
       "    </tr>\n",
       "    <tr>\n",
       "      <th>2017-12-01</th>\n",
       "      <td>2.513417e+06</td>\n",
       "      <td>710370414027981</td>\n",
       "      <td>3182485.0</td>\n",
       "    </tr>\n",
       "    <tr>\n",
       "      <th>2018-01-01</th>\n",
       "      <td>2.348920e+06</td>\n",
       "      <td>729852385665123</td>\n",
       "      <td>3178356.0</td>\n",
       "    </tr>\n",
       "    <tr>\n",
       "      <th>2018-02-01</th>\n",
       "      <td>2.495366e+06</td>\n",
       "      <td>745906973372760</td>\n",
       "      <td>3142877.0</td>\n",
       "    </tr>\n",
       "    <tr>\n",
       "      <th>2018-03-01</th>\n",
       "      <td>2.594768e+06</td>\n",
       "      <td>766600125799929</td>\n",
       "      <td>3145953.0</td>\n",
       "    </tr>\n",
       "    <tr>\n",
       "      <th>2018-04-01</th>\n",
       "      <td>2.746822e+06</td>\n",
       "      <td>775181470358997</td>\n",
       "      <td>3054401.0</td>\n",
       "    </tr>\n",
       "    <tr>\n",
       "      <th>2018-05-01</th>\n",
       "      <td>2.681634e+06</td>\n",
       "      <td>789930388007310</td>\n",
       "      <td>3018042.0</td>\n",
       "    </tr>\n",
       "    <tr>\n",
       "      <th>2018-06-01</th>\n",
       "      <td>2.567462e+06</td>\n",
       "      <td>803682873238513</td>\n",
       "      <td>2982637.0</td>\n",
       "    </tr>\n",
       "    <tr>\n",
       "      <th>2018-07-01</th>\n",
       "      <td>2.688999e+06</td>\n",
       "      <td>827382502799468</td>\n",
       "      <td>3021542.0</td>\n",
       "    </tr>\n",
       "    <tr>\n",
       "      <th>2018-08-01</th>\n",
       "      <td>2.793017e+06</td>\n",
       "      <td>849475814579730</td>\n",
       "      <td>3044804.0</td>\n",
       "    </tr>\n",
       "    <tr>\n",
       "      <th>2018-09-01</th>\n",
       "      <td>2.834337e+06</td>\n",
       "      <td>861896859944562</td>\n",
       "      <td>3016633.0</td>\n",
       "    </tr>\n",
       "    <tr>\n",
       "      <th>2018-10-01</th>\n",
       "      <td>2.730203e+06</td>\n",
       "      <td>873553401128870</td>\n",
       "      <td>2976930.0</td>\n",
       "    </tr>\n",
       "    <tr>\n",
       "      <th>2018-11-01</th>\n",
       "      <td>3.018185e+06</td>\n",
       "      <td>887821282448478</td>\n",
       "      <td>2766060.0</td>\n",
       "    </tr>\n",
       "    <tr>\n",
       "      <th>2018-12-01</th>\n",
       "      <td>3.295811e+06</td>\n",
       "      <td>890217874092673</td>\n",
       "      <td>2653645.0</td>\n",
       "    </tr>\n",
       "    <tr>\n",
       "      <th>2019-01-01</th>\n",
       "      <td>3.354668e+06</td>\n",
       "      <td>894195013717469</td>\n",
       "      <td>2560302.0</td>\n",
       "    </tr>\n",
       "    <tr>\n",
       "      <th>2019-02-01</th>\n",
       "      <td>3.361612e+06</td>\n",
       "      <td>863168169696165</td>\n",
       "      <td>2286129.0</td>\n",
       "    </tr>\n",
       "    <tr>\n",
       "      <th>2019-03-01</th>\n",
       "      <td>3.048046e+06</td>\n",
       "      <td>840301763603511</td>\n",
       "      <td>2082385.0</td>\n",
       "    </tr>\n",
       "    <tr>\n",
       "      <th>2019-04-01</th>\n",
       "      <td>3.010062e+06</td>\n",
       "      <td>828344574511272</td>\n",
       "      <td>1946889.0</td>\n",
       "    </tr>\n",
       "  </tbody>\n",
       "</table>\n",
       "</div>"
      ],
      "text/plain": [
       "                   Label         pecan_id   category\n",
       "Marker                                              \n",
       "2015-02-01  1.343220e+06            93528   171365.0\n",
       "2015-03-01  1.667226e+06           516432   346774.0\n",
       "2015-04-01  1.812072e+06    8100308764409   596861.0\n",
       "2015-05-01  2.082406e+06   20117627499499   864059.0\n",
       "2015-06-01  1.827636e+06   34402688931405  1046514.0\n",
       "2015-07-01  2.031930e+06   50989852838498  1240890.0\n",
       "2015-08-01  2.116896e+06   68247031595106  1404004.0\n",
       "2015-09-01  2.329418e+06   87308096627059  1564115.0\n",
       "2015-10-01  2.459852e+06  106068513896982  1673805.0\n",
       "2015-11-01  2.501088e+06  128093106372220  1831338.0\n",
       "2015-12-01  2.687718e+06  147119811566937  1894160.0\n",
       "2016-01-01  2.511998e+06  168534518618781  2003806.0\n",
       "2016-02-01  2.790258e+06  190395902260785  2116808.0\n",
       "2016-03-01  2.702824e+06  212755502103672  2207467.0\n",
       "2016-04-01  2.675980e+06  242433726345551  2433916.0\n",
       "2016-05-01  2.727482e+06  267816983188027  2546598.0\n",
       "2016-06-01  2.608608e+06  289910295010125  2590482.0\n",
       "2016-07-01  2.661546e+06  313360816514220  2651387.0\n",
       "2016-08-01  2.477398e+06  336596589642880  2691584.0\n",
       "2016-09-01  2.660813e+06  359952621851796  2741322.0\n",
       "2016-10-01  2.595979e+06  384193417331273  2800170.0\n",
       "2016-11-01  2.550277e+06  404757720749230  2797548.0\n",
       "2016-12-01  2.824327e+06  428964156481549  2845600.0\n",
       "2017-01-01  2.702851e+06  455816292097554  2921352.0\n",
       "2017-02-01  2.714874e+06  478708467811821  2948573.0\n",
       "2017-03-01  2.402818e+06  505500473874942  3021046.0\n",
       "2017-04-01  2.482161e+06  523986013087580  2992146.0\n",
       "2017-05-01  2.321551e+06  547848851415954  3022664.0\n",
       "2017-06-01  2.173389e+06  573790453935517  3076139.0\n",
       "2017-07-01  2.431043e+06  596244542971385  3088089.0\n",
       "2017-08-01  2.300943e+06  618784531353198  3102179.0\n",
       "2017-09-01  2.340899e+06  645533587725060  3158626.0\n",
       "2017-10-01  2.370531e+06  667583949827735  3169724.0\n",
       "2017-11-01  2.527349e+06  690493305397144  3189226.0\n",
       "2017-12-01  2.513417e+06  710370414027981  3182485.0\n",
       "2018-01-01  2.348920e+06  729852385665123  3178356.0\n",
       "2018-02-01  2.495366e+06  745906973372760  3142877.0\n",
       "2018-03-01  2.594768e+06  766600125799929  3145953.0\n",
       "2018-04-01  2.746822e+06  775181470358997  3054401.0\n",
       "2018-05-01  2.681634e+06  789930388007310  3018042.0\n",
       "2018-06-01  2.567462e+06  803682873238513  2982637.0\n",
       "2018-07-01  2.688999e+06  827382502799468  3021542.0\n",
       "2018-08-01  2.793017e+06  849475814579730  3044804.0\n",
       "2018-09-01  2.834337e+06  861896859944562  3016633.0\n",
       "2018-10-01  2.730203e+06  873553401128870  2976930.0\n",
       "2018-11-01  3.018185e+06  887821282448478  2766060.0\n",
       "2018-12-01  3.295811e+06  890217874092673  2653645.0\n",
       "2019-01-01  3.354668e+06  894195013717469  2560302.0\n",
       "2019-02-01  3.361612e+06  863168169696165  2286129.0\n",
       "2019-03-01  3.048046e+06  840301763603511  2082385.0\n",
       "2019-04-01  3.010062e+06  828344574511272  1946889.0"
      ]
     },
     "execution_count": 26,
     "metadata": {},
     "output_type": "execute_result"
    }
   ],
   "source": [
    "full_df.groupby('Marker').sum()"
   ]
  },
  {
   "cell_type": "code",
   "execution_count": 35,
   "metadata": {},
   "outputs": [],
   "source": [
    "by_date = full_df.groupby('Marker').describe()"
   ]
  },
  {
   "cell_type": "code",
   "execution_count": 44,
   "metadata": {},
   "outputs": [
    {
     "data": {
      "text/plain": [
       "<bound method Series.sort_values of Label       1.000000\n",
       "pecan_id   -0.015736\n",
       "category   -0.190810\n",
       "year       -0.012932\n",
       "month      -0.009299\n",
       "Name: Label, dtype: float64>"
      ]
     },
     "execution_count": 44,
     "metadata": {},
     "output_type": "execute_result"
    }
   ],
   "source": [
    "full_df['date'] = pd.to_datetime(full_df['Marker'])\n",
    "full_df['year'] = full_df['date'].apply(lambda date: date.year)\n",
    "full_df['month'] = full_df['date'].apply(lambda date: date.month)"
   ]
  },
  {
   "cell_type": "code",
   "execution_count": 45,
   "metadata": {},
   "outputs": [
    {
     "data": {
      "text/plain": [
       "category   -0.190810\n",
       "pecan_id   -0.015736\n",
       "year       -0.012932\n",
       "month      -0.009299\n",
       "Label       1.000000\n",
       "Name: Label, dtype: float64"
      ]
     },
     "execution_count": 45,
     "metadata": {},
     "output_type": "execute_result"
    }
   ],
   "source": [
    "full_df.corr()['Label'].sort_values()"
   ]
  },
  {
   "cell_type": "code",
   "execution_count": 48,
   "metadata": {},
   "outputs": [
    {
     "data": {
      "text/plain": [
       "Marker\n",
       "2015-02-01    3102.124711\n",
       "2015-03-01    2480.990827\n",
       "2015-04-01    1921.603220\n",
       "2015-05-01    1778.314121\n",
       "2015-06-01    1369.015607\n",
       "2015-07-01    1369.224957\n",
       "2015-08-01    1332.219006\n",
       "2015-09-01    1375.099174\n",
       "2015-10-01    1394.473923\n",
       "2015-11-01    1341.785408\n",
       "2015-12-01    1412.358382\n",
       "2016-01-01    1280.325178\n",
       "2016-02-01    1384.743424\n",
       "2016-03-01    1309.507752\n",
       "2016-04-01    1232.602487\n",
       "2016-05-01    1224.733722\n",
       "2016-06-01    1159.381333\n",
       "2016-07-01    1167.344737\n",
       "2016-08-01    1074.793059\n",
       "2016-09-01    1142.961054\n",
       "2016-10-01    1102.794959\n",
       "2016-11-01    1082.460668\n",
       "2016-12-01    1187.690216\n",
       "2017-01-01    1120.585130\n",
       "2017-02-01    1120.459568\n",
       "2017-03-01     979.942170\n",
       "2017-04-01    1017.278902\n",
       "2017-05-01     946.412768\n",
       "2017-06-01     878.491722\n",
       "2017-07-01     980.654791\n",
       "2017-08-01     926.305566\n",
       "2017-09-01     934.490629\n",
       "2017-10-01     945.564752\n",
       "2017-11-01    1006.110205\n",
       "2017-12-01    1002.959631\n",
       "2018-01-01     939.944029\n",
       "2018-02-01    1005.790459\n",
       "2018-03-01    1046.699527\n",
       "2018-04-01    1126.208282\n",
       "2018-05-01    1108.113223\n",
       "2018-06-01    1070.221759\n",
       "2018-07-01    1116.693787\n",
       "2018-08-01    1157.967098\n",
       "2018-09-01    1186.411319\n",
       "2018-10-01    1154.419721\n",
       "2018-11-01    1284.880647\n",
       "2018-12-01    1431.094512\n",
       "2019-01-01    1482.398596\n",
       "2019-02-01    1572.316194\n",
       "2019-03-01    1495.606488\n",
       "2019-04-01    1529.503060\n",
       "Name: Label, dtype: float64"
      ]
     },
     "execution_count": 48,
     "metadata": {},
     "output_type": "execute_result"
    }
   ],
   "source": [
    "full_df.groupby('Marker').mean()['Label']"
   ]
  },
  {
   "cell_type": "code",
   "execution_count": 57,
   "metadata": {},
   "outputs": [],
   "source": [
    "diff = set(full_df['category'].unique()).difference(set(full_df[full_df['Marker']=='2019-04-01']['category']))"
   ]
  },
  {
   "cell_type": "code",
   "execution_count": 64,
   "metadata": {},
   "outputs": [],
   "source": [
    "by_marker = full_df.groupby('Marker').mean()['Label']\n",
    "by_category = full_df.groupby('category').mean()['Label']"
   ]
  },
  {
   "cell_type": "code",
   "execution_count": 68,
   "metadata": {},
   "outputs": [
    {
     "data": {
      "text/plain": [
       "8637.943059959349"
      ]
     },
     "execution_count": 68,
     "metadata": {},
     "output_type": "execute_result"
    }
   ],
   "source": [
    "by_marker['2019-04-01']+by_category[485]"
   ]
  },
  {
   "cell_type": "code",
   "execution_count": 23,
   "metadata": {},
   "outputs": [
    {
     "data": {
      "text/plain": [
       "Marker      39422\n",
       "Label       39422\n",
       "pecan_id    39422\n",
       "category    39422\n",
       "dtype: int64"
      ]
     },
     "execution_count": 23,
     "metadata": {},
     "output_type": "execute_result"
    }
   ],
   "source": [
    "full_df[full_df['Label']==0].count()"
   ]
  },
  {
   "cell_type": "code",
   "execution_count": 72,
   "metadata": {},
   "outputs": [
    {
     "data": {
      "text/html": [
       "<div>\n",
       "<style scoped>\n",
       "    .dataframe tbody tr th:only-of-type {\n",
       "        vertical-align: middle;\n",
       "    }\n",
       "\n",
       "    .dataframe tbody tr th {\n",
       "        vertical-align: top;\n",
       "    }\n",
       "\n",
       "    .dataframe thead th {\n",
       "        text-align: right;\n",
       "    }\n",
       "</style>\n",
       "<table border=\"1\" class=\"dataframe\">\n",
       "  <thead>\n",
       "    <tr style=\"text-align: right;\">\n",
       "      <th></th>\n",
       "      <th>Label</th>\n",
       "      <th>pecan_id</th>\n",
       "      <th>category</th>\n",
       "      <th>date</th>\n",
       "      <th>year</th>\n",
       "      <th>month</th>\n",
       "    </tr>\n",
       "    <tr>\n",
       "      <th>Marker</th>\n",
       "      <th></th>\n",
       "      <th></th>\n",
       "      <th></th>\n",
       "      <th></th>\n",
       "      <th></th>\n",
       "      <th></th>\n",
       "    </tr>\n",
       "  </thead>\n",
       "  <tbody>\n",
       "    <tr>\n",
       "      <th>2015-02-01</th>\n",
       "      <td>433</td>\n",
       "      <td>433</td>\n",
       "      <td>433</td>\n",
       "      <td>433</td>\n",
       "      <td>433</td>\n",
       "      <td>433</td>\n",
       "    </tr>\n",
       "    <tr>\n",
       "      <th>2015-03-01</th>\n",
       "      <td>672</td>\n",
       "      <td>672</td>\n",
       "      <td>672</td>\n",
       "      <td>672</td>\n",
       "      <td>672</td>\n",
       "      <td>672</td>\n",
       "    </tr>\n",
       "    <tr>\n",
       "      <th>2015-04-01</th>\n",
       "      <td>943</td>\n",
       "      <td>943</td>\n",
       "      <td>943</td>\n",
       "      <td>943</td>\n",
       "      <td>943</td>\n",
       "      <td>943</td>\n",
       "    </tr>\n",
       "    <tr>\n",
       "      <th>2015-05-01</th>\n",
       "      <td>1171</td>\n",
       "      <td>1171</td>\n",
       "      <td>1171</td>\n",
       "      <td>1171</td>\n",
       "      <td>1171</td>\n",
       "      <td>1171</td>\n",
       "    </tr>\n",
       "    <tr>\n",
       "      <th>2015-06-01</th>\n",
       "      <td>1335</td>\n",
       "      <td>1335</td>\n",
       "      <td>1335</td>\n",
       "      <td>1335</td>\n",
       "      <td>1335</td>\n",
       "      <td>1335</td>\n",
       "    </tr>\n",
       "    <tr>\n",
       "      <th>2015-07-01</th>\n",
       "      <td>1484</td>\n",
       "      <td>1484</td>\n",
       "      <td>1484</td>\n",
       "      <td>1484</td>\n",
       "      <td>1484</td>\n",
       "      <td>1484</td>\n",
       "    </tr>\n",
       "    <tr>\n",
       "      <th>2015-08-01</th>\n",
       "      <td>1589</td>\n",
       "      <td>1589</td>\n",
       "      <td>1589</td>\n",
       "      <td>1589</td>\n",
       "      <td>1589</td>\n",
       "      <td>1589</td>\n",
       "    </tr>\n",
       "    <tr>\n",
       "      <th>2015-09-01</th>\n",
       "      <td>1694</td>\n",
       "      <td>1694</td>\n",
       "      <td>1694</td>\n",
       "      <td>1694</td>\n",
       "      <td>1694</td>\n",
       "      <td>1694</td>\n",
       "    </tr>\n",
       "    <tr>\n",
       "      <th>2015-10-01</th>\n",
       "      <td>1764</td>\n",
       "      <td>1764</td>\n",
       "      <td>1764</td>\n",
       "      <td>1764</td>\n",
       "      <td>1764</td>\n",
       "      <td>1764</td>\n",
       "    </tr>\n",
       "    <tr>\n",
       "      <th>2015-11-01</th>\n",
       "      <td>1864</td>\n",
       "      <td>1864</td>\n",
       "      <td>1864</td>\n",
       "      <td>1864</td>\n",
       "      <td>1864</td>\n",
       "      <td>1864</td>\n",
       "    </tr>\n",
       "    <tr>\n",
       "      <th>2015-12-01</th>\n",
       "      <td>1903</td>\n",
       "      <td>1903</td>\n",
       "      <td>1903</td>\n",
       "      <td>1903</td>\n",
       "      <td>1903</td>\n",
       "      <td>1903</td>\n",
       "    </tr>\n",
       "    <tr>\n",
       "      <th>2016-01-01</th>\n",
       "      <td>1962</td>\n",
       "      <td>1962</td>\n",
       "      <td>1962</td>\n",
       "      <td>1962</td>\n",
       "      <td>1962</td>\n",
       "      <td>1962</td>\n",
       "    </tr>\n",
       "    <tr>\n",
       "      <th>2016-02-01</th>\n",
       "      <td>2015</td>\n",
       "      <td>2015</td>\n",
       "      <td>2015</td>\n",
       "      <td>2015</td>\n",
       "      <td>2015</td>\n",
       "      <td>2015</td>\n",
       "    </tr>\n",
       "    <tr>\n",
       "      <th>2016-03-01</th>\n",
       "      <td>2064</td>\n",
       "      <td>2064</td>\n",
       "      <td>2064</td>\n",
       "      <td>2064</td>\n",
       "      <td>2064</td>\n",
       "      <td>2064</td>\n",
       "    </tr>\n",
       "    <tr>\n",
       "      <th>2016-04-01</th>\n",
       "      <td>2171</td>\n",
       "      <td>2171</td>\n",
       "      <td>2171</td>\n",
       "      <td>2171</td>\n",
       "      <td>2171</td>\n",
       "      <td>2171</td>\n",
       "    </tr>\n",
       "    <tr>\n",
       "      <th>2016-05-01</th>\n",
       "      <td>2227</td>\n",
       "      <td>2227</td>\n",
       "      <td>2227</td>\n",
       "      <td>2227</td>\n",
       "      <td>2227</td>\n",
       "      <td>2227</td>\n",
       "    </tr>\n",
       "    <tr>\n",
       "      <th>2016-06-01</th>\n",
       "      <td>2250</td>\n",
       "      <td>2250</td>\n",
       "      <td>2250</td>\n",
       "      <td>2250</td>\n",
       "      <td>2250</td>\n",
       "      <td>2250</td>\n",
       "    </tr>\n",
       "    <tr>\n",
       "      <th>2016-07-01</th>\n",
       "      <td>2280</td>\n",
       "      <td>2280</td>\n",
       "      <td>2280</td>\n",
       "      <td>2280</td>\n",
       "      <td>2280</td>\n",
       "      <td>2280</td>\n",
       "    </tr>\n",
       "    <tr>\n",
       "      <th>2016-08-01</th>\n",
       "      <td>2305</td>\n",
       "      <td>2305</td>\n",
       "      <td>2305</td>\n",
       "      <td>2305</td>\n",
       "      <td>2305</td>\n",
       "      <td>2305</td>\n",
       "    </tr>\n",
       "    <tr>\n",
       "      <th>2016-09-01</th>\n",
       "      <td>2328</td>\n",
       "      <td>2328</td>\n",
       "      <td>2328</td>\n",
       "      <td>2328</td>\n",
       "      <td>2328</td>\n",
       "      <td>2328</td>\n",
       "    </tr>\n",
       "    <tr>\n",
       "      <th>2016-10-01</th>\n",
       "      <td>2354</td>\n",
       "      <td>2354</td>\n",
       "      <td>2354</td>\n",
       "      <td>2354</td>\n",
       "      <td>2354</td>\n",
       "      <td>2354</td>\n",
       "    </tr>\n",
       "    <tr>\n",
       "      <th>2016-11-01</th>\n",
       "      <td>2356</td>\n",
       "      <td>2356</td>\n",
       "      <td>2356</td>\n",
       "      <td>2356</td>\n",
       "      <td>2356</td>\n",
       "      <td>2356</td>\n",
       "    </tr>\n",
       "    <tr>\n",
       "      <th>2016-12-01</th>\n",
       "      <td>2378</td>\n",
       "      <td>2378</td>\n",
       "      <td>2378</td>\n",
       "      <td>2378</td>\n",
       "      <td>2378</td>\n",
       "      <td>2378</td>\n",
       "    </tr>\n",
       "    <tr>\n",
       "      <th>2017-01-01</th>\n",
       "      <td>2412</td>\n",
       "      <td>2412</td>\n",
       "      <td>2412</td>\n",
       "      <td>2412</td>\n",
       "      <td>2412</td>\n",
       "      <td>2412</td>\n",
       "    </tr>\n",
       "    <tr>\n",
       "      <th>2017-02-01</th>\n",
       "      <td>2423</td>\n",
       "      <td>2423</td>\n",
       "      <td>2423</td>\n",
       "      <td>2423</td>\n",
       "      <td>2423</td>\n",
       "      <td>2423</td>\n",
       "    </tr>\n",
       "    <tr>\n",
       "      <th>2017-03-01</th>\n",
       "      <td>2452</td>\n",
       "      <td>2452</td>\n",
       "      <td>2452</td>\n",
       "      <td>2452</td>\n",
       "      <td>2452</td>\n",
       "      <td>2452</td>\n",
       "    </tr>\n",
       "    <tr>\n",
       "      <th>2017-04-01</th>\n",
       "      <td>2440</td>\n",
       "      <td>2440</td>\n",
       "      <td>2440</td>\n",
       "      <td>2440</td>\n",
       "      <td>2440</td>\n",
       "      <td>2440</td>\n",
       "    </tr>\n",
       "    <tr>\n",
       "      <th>2017-05-01</th>\n",
       "      <td>2453</td>\n",
       "      <td>2453</td>\n",
       "      <td>2453</td>\n",
       "      <td>2453</td>\n",
       "      <td>2453</td>\n",
       "      <td>2453</td>\n",
       "    </tr>\n",
       "    <tr>\n",
       "      <th>2017-06-01</th>\n",
       "      <td>2474</td>\n",
       "      <td>2474</td>\n",
       "      <td>2474</td>\n",
       "      <td>2474</td>\n",
       "      <td>2474</td>\n",
       "      <td>2474</td>\n",
       "    </tr>\n",
       "    <tr>\n",
       "      <th>2017-07-01</th>\n",
       "      <td>2479</td>\n",
       "      <td>2479</td>\n",
       "      <td>2479</td>\n",
       "      <td>2479</td>\n",
       "      <td>2479</td>\n",
       "      <td>2479</td>\n",
       "    </tr>\n",
       "    <tr>\n",
       "      <th>2017-08-01</th>\n",
       "      <td>2484</td>\n",
       "      <td>2484</td>\n",
       "      <td>2484</td>\n",
       "      <td>2484</td>\n",
       "      <td>2484</td>\n",
       "      <td>2484</td>\n",
       "    </tr>\n",
       "    <tr>\n",
       "      <th>2017-09-01</th>\n",
       "      <td>2505</td>\n",
       "      <td>2505</td>\n",
       "      <td>2505</td>\n",
       "      <td>2505</td>\n",
       "      <td>2505</td>\n",
       "      <td>2505</td>\n",
       "    </tr>\n",
       "    <tr>\n",
       "      <th>2017-10-01</th>\n",
       "      <td>2507</td>\n",
       "      <td>2507</td>\n",
       "      <td>2507</td>\n",
       "      <td>2507</td>\n",
       "      <td>2507</td>\n",
       "      <td>2507</td>\n",
       "    </tr>\n",
       "    <tr>\n",
       "      <th>2017-11-01</th>\n",
       "      <td>2512</td>\n",
       "      <td>2512</td>\n",
       "      <td>2512</td>\n",
       "      <td>2512</td>\n",
       "      <td>2512</td>\n",
       "      <td>2512</td>\n",
       "    </tr>\n",
       "    <tr>\n",
       "      <th>2017-12-01</th>\n",
       "      <td>2506</td>\n",
       "      <td>2506</td>\n",
       "      <td>2506</td>\n",
       "      <td>2506</td>\n",
       "      <td>2506</td>\n",
       "      <td>2506</td>\n",
       "    </tr>\n",
       "    <tr>\n",
       "      <th>2018-01-01</th>\n",
       "      <td>2499</td>\n",
       "      <td>2499</td>\n",
       "      <td>2499</td>\n",
       "      <td>2499</td>\n",
       "      <td>2499</td>\n",
       "      <td>2499</td>\n",
       "    </tr>\n",
       "    <tr>\n",
       "      <th>2018-02-01</th>\n",
       "      <td>2481</td>\n",
       "      <td>2481</td>\n",
       "      <td>2481</td>\n",
       "      <td>2481</td>\n",
       "      <td>2481</td>\n",
       "      <td>2481</td>\n",
       "    </tr>\n",
       "    <tr>\n",
       "      <th>2018-03-01</th>\n",
       "      <td>2479</td>\n",
       "      <td>2479</td>\n",
       "      <td>2479</td>\n",
       "      <td>2479</td>\n",
       "      <td>2479</td>\n",
       "      <td>2479</td>\n",
       "    </tr>\n",
       "    <tr>\n",
       "      <th>2018-04-01</th>\n",
       "      <td>2439</td>\n",
       "      <td>2439</td>\n",
       "      <td>2439</td>\n",
       "      <td>2439</td>\n",
       "      <td>2439</td>\n",
       "      <td>2439</td>\n",
       "    </tr>\n",
       "    <tr>\n",
       "      <th>2018-05-01</th>\n",
       "      <td>2420</td>\n",
       "      <td>2420</td>\n",
       "      <td>2420</td>\n",
       "      <td>2420</td>\n",
       "      <td>2420</td>\n",
       "      <td>2420</td>\n",
       "    </tr>\n",
       "    <tr>\n",
       "      <th>2018-06-01</th>\n",
       "      <td>2399</td>\n",
       "      <td>2399</td>\n",
       "      <td>2399</td>\n",
       "      <td>2399</td>\n",
       "      <td>2399</td>\n",
       "      <td>2399</td>\n",
       "    </tr>\n",
       "    <tr>\n",
       "      <th>2018-07-01</th>\n",
       "      <td>2408</td>\n",
       "      <td>2408</td>\n",
       "      <td>2408</td>\n",
       "      <td>2408</td>\n",
       "      <td>2408</td>\n",
       "      <td>2408</td>\n",
       "    </tr>\n",
       "    <tr>\n",
       "      <th>2018-08-01</th>\n",
       "      <td>2412</td>\n",
       "      <td>2412</td>\n",
       "      <td>2412</td>\n",
       "      <td>2412</td>\n",
       "      <td>2412</td>\n",
       "      <td>2412</td>\n",
       "    </tr>\n",
       "    <tr>\n",
       "      <th>2018-09-01</th>\n",
       "      <td>2389</td>\n",
       "      <td>2389</td>\n",
       "      <td>2389</td>\n",
       "      <td>2389</td>\n",
       "      <td>2389</td>\n",
       "      <td>2389</td>\n",
       "    </tr>\n",
       "    <tr>\n",
       "      <th>2018-10-01</th>\n",
       "      <td>2365</td>\n",
       "      <td>2365</td>\n",
       "      <td>2365</td>\n",
       "      <td>2365</td>\n",
       "      <td>2365</td>\n",
       "      <td>2365</td>\n",
       "    </tr>\n",
       "    <tr>\n",
       "      <th>2018-11-01</th>\n",
       "      <td>2349</td>\n",
       "      <td>2349</td>\n",
       "      <td>2349</td>\n",
       "      <td>2349</td>\n",
       "      <td>2349</td>\n",
       "      <td>2349</td>\n",
       "    </tr>\n",
       "    <tr>\n",
       "      <th>2018-12-01</th>\n",
       "      <td>2303</td>\n",
       "      <td>2303</td>\n",
       "      <td>2303</td>\n",
       "      <td>2303</td>\n",
       "      <td>2303</td>\n",
       "      <td>2303</td>\n",
       "    </tr>\n",
       "    <tr>\n",
       "      <th>2019-01-01</th>\n",
       "      <td>2263</td>\n",
       "      <td>2263</td>\n",
       "      <td>2263</td>\n",
       "      <td>2263</td>\n",
       "      <td>2263</td>\n",
       "      <td>2263</td>\n",
       "    </tr>\n",
       "    <tr>\n",
       "      <th>2019-02-01</th>\n",
       "      <td>2138</td>\n",
       "      <td>2138</td>\n",
       "      <td>2138</td>\n",
       "      <td>2138</td>\n",
       "      <td>2138</td>\n",
       "      <td>2138</td>\n",
       "    </tr>\n",
       "    <tr>\n",
       "      <th>2019-03-01</th>\n",
       "      <td>2038</td>\n",
       "      <td>2038</td>\n",
       "      <td>2038</td>\n",
       "      <td>2038</td>\n",
       "      <td>2038</td>\n",
       "      <td>2038</td>\n",
       "    </tr>\n",
       "    <tr>\n",
       "      <th>2019-04-01</th>\n",
       "      <td>1968</td>\n",
       "      <td>1968</td>\n",
       "      <td>1968</td>\n",
       "      <td>1968</td>\n",
       "      <td>1968</td>\n",
       "      <td>1968</td>\n",
       "    </tr>\n",
       "  </tbody>\n",
       "</table>\n",
       "</div>"
      ],
      "text/plain": [
       "            Label  pecan_id  category  date  year  month\n",
       "Marker                                                  \n",
       "2015-02-01    433       433       433   433   433    433\n",
       "2015-03-01    672       672       672   672   672    672\n",
       "2015-04-01    943       943       943   943   943    943\n",
       "2015-05-01   1171      1171      1171  1171  1171   1171\n",
       "2015-06-01   1335      1335      1335  1335  1335   1335\n",
       "2015-07-01   1484      1484      1484  1484  1484   1484\n",
       "2015-08-01   1589      1589      1589  1589  1589   1589\n",
       "2015-09-01   1694      1694      1694  1694  1694   1694\n",
       "2015-10-01   1764      1764      1764  1764  1764   1764\n",
       "2015-11-01   1864      1864      1864  1864  1864   1864\n",
       "2015-12-01   1903      1903      1903  1903  1903   1903\n",
       "2016-01-01   1962      1962      1962  1962  1962   1962\n",
       "2016-02-01   2015      2015      2015  2015  2015   2015\n",
       "2016-03-01   2064      2064      2064  2064  2064   2064\n",
       "2016-04-01   2171      2171      2171  2171  2171   2171\n",
       "2016-05-01   2227      2227      2227  2227  2227   2227\n",
       "2016-06-01   2250      2250      2250  2250  2250   2250\n",
       "2016-07-01   2280      2280      2280  2280  2280   2280\n",
       "2016-08-01   2305      2305      2305  2305  2305   2305\n",
       "2016-09-01   2328      2328      2328  2328  2328   2328\n",
       "2016-10-01   2354      2354      2354  2354  2354   2354\n",
       "2016-11-01   2356      2356      2356  2356  2356   2356\n",
       "2016-12-01   2378      2378      2378  2378  2378   2378\n",
       "2017-01-01   2412      2412      2412  2412  2412   2412\n",
       "2017-02-01   2423      2423      2423  2423  2423   2423\n",
       "2017-03-01   2452      2452      2452  2452  2452   2452\n",
       "2017-04-01   2440      2440      2440  2440  2440   2440\n",
       "2017-05-01   2453      2453      2453  2453  2453   2453\n",
       "2017-06-01   2474      2474      2474  2474  2474   2474\n",
       "2017-07-01   2479      2479      2479  2479  2479   2479\n",
       "2017-08-01   2484      2484      2484  2484  2484   2484\n",
       "2017-09-01   2505      2505      2505  2505  2505   2505\n",
       "2017-10-01   2507      2507      2507  2507  2507   2507\n",
       "2017-11-01   2512      2512      2512  2512  2512   2512\n",
       "2017-12-01   2506      2506      2506  2506  2506   2506\n",
       "2018-01-01   2499      2499      2499  2499  2499   2499\n",
       "2018-02-01   2481      2481      2481  2481  2481   2481\n",
       "2018-03-01   2479      2479      2479  2479  2479   2479\n",
       "2018-04-01   2439      2439      2439  2439  2439   2439\n",
       "2018-05-01   2420      2420      2420  2420  2420   2420\n",
       "2018-06-01   2399      2399      2399  2399  2399   2399\n",
       "2018-07-01   2408      2408      2408  2408  2408   2408\n",
       "2018-08-01   2412      2412      2412  2412  2412   2412\n",
       "2018-09-01   2389      2389      2389  2389  2389   2389\n",
       "2018-10-01   2365      2365      2365  2365  2365   2365\n",
       "2018-11-01   2349      2349      2349  2349  2349   2349\n",
       "2018-12-01   2303      2303      2303  2303  2303   2303\n",
       "2019-01-01   2263      2263      2263  2263  2263   2263\n",
       "2019-02-01   2138      2138      2138  2138  2138   2138\n",
       "2019-03-01   2038      2038      2038  2038  2038   2038\n",
       "2019-04-01   1968      1968      1968  1968  1968   1968"
      ]
     },
     "execution_count": 72,
     "metadata": {},
     "output_type": "execute_result"
    }
   ],
   "source": [
    "full_df.groupby('Marker').count()"
   ]
  },
  {
   "cell_type": "code",
   "execution_count": 86,
   "metadata": {},
   "outputs": [
    {
     "data": {
      "text/plain": [
       "True"
      ]
     },
     "execution_count": 86,
     "metadata": {},
     "output_type": "execute_result"
    }
   ],
   "source": [
    "'2105-06-01' > '2105-05-01'"
   ]
  },
  {
   "cell_type": "code",
   "execution_count": 89,
   "metadata": {},
   "outputs": [
    {
     "data": {
      "text/html": [
       "<div>\n",
       "<style scoped>\n",
       "    .dataframe tbody tr th:only-of-type {\n",
       "        vertical-align: middle;\n",
       "    }\n",
       "\n",
       "    .dataframe tbody tr th {\n",
       "        vertical-align: top;\n",
       "    }\n",
       "\n",
       "    .dataframe thead th {\n",
       "        text-align: right;\n",
       "    }\n",
       "</style>\n",
       "<table border=\"1\" class=\"dataframe\">\n",
       "  <thead>\n",
       "    <tr style=\"text-align: right;\">\n",
       "      <th></th>\n",
       "      <th>count</th>\n",
       "      <th>mean</th>\n",
       "      <th>std</th>\n",
       "      <th>min</th>\n",
       "      <th>25%</th>\n",
       "      <th>50%</th>\n",
       "      <th>75%</th>\n",
       "      <th>max</th>\n",
       "    </tr>\n",
       "  </thead>\n",
       "  <tbody>\n",
       "    <tr>\n",
       "      <th>Label</th>\n",
       "      <td>66359.0</td>\n",
       "      <td>1.089597e+03</td>\n",
       "      <td>1.640674e+03</td>\n",
       "      <td>2.0</td>\n",
       "      <td>1.500000e+02</td>\n",
       "      <td>4.640000e+02</td>\n",
       "      <td>1.200000e+03</td>\n",
       "      <td>9.994000e+03</td>\n",
       "    </tr>\n",
       "    <tr>\n",
       "      <th>pecan_id</th>\n",
       "      <td>66359.0</td>\n",
       "      <td>2.293159e+11</td>\n",
       "      <td>1.177256e+11</td>\n",
       "      <td>0.0</td>\n",
       "      <td>1.374390e+11</td>\n",
       "      <td>2.405182e+11</td>\n",
       "      <td>3.264175e+11</td>\n",
       "      <td>4.209068e+11</td>\n",
       "    </tr>\n",
       "    <tr>\n",
       "      <th>category</th>\n",
       "      <td>66359.0</td>\n",
       "      <td>1.056832e+03</td>\n",
       "      <td>7.009055e+02</td>\n",
       "      <td>0.0</td>\n",
       "      <td>4.660000e+02</td>\n",
       "      <td>9.650000e+02</td>\n",
       "      <td>1.579000e+03</td>\n",
       "      <td>2.986000e+03</td>\n",
       "    </tr>\n",
       "    <tr>\n",
       "      <th>year</th>\n",
       "      <td>66359.0</td>\n",
       "      <td>2.016937e+03</td>\n",
       "      <td>1.190277e+00</td>\n",
       "      <td>2015.0</td>\n",
       "      <td>2.016000e+03</td>\n",
       "      <td>2.017000e+03</td>\n",
       "      <td>2.018000e+03</td>\n",
       "      <td>2.019000e+03</td>\n",
       "    </tr>\n",
       "    <tr>\n",
       "      <th>month</th>\n",
       "      <td>66359.0</td>\n",
       "      <td>6.444883e+00</td>\n",
       "      <td>3.507717e+00</td>\n",
       "      <td>1.0</td>\n",
       "      <td>3.000000e+00</td>\n",
       "      <td>6.000000e+00</td>\n",
       "      <td>1.000000e+01</td>\n",
       "      <td>1.200000e+01</td>\n",
       "    </tr>\n",
       "  </tbody>\n",
       "</table>\n",
       "</div>"
      ],
      "text/plain": [
       "            count          mean           std     min           25%  \\\n",
       "Label     66359.0  1.089597e+03  1.640674e+03     2.0  1.500000e+02   \n",
       "pecan_id  66359.0  2.293159e+11  1.177256e+11     0.0  1.374390e+11   \n",
       "category  66359.0  1.056832e+03  7.009055e+02     0.0  4.660000e+02   \n",
       "year      66359.0  2.016937e+03  1.190277e+00  2015.0  2.016000e+03   \n",
       "month     66359.0  6.444883e+00  3.507717e+00     1.0  3.000000e+00   \n",
       "\n",
       "                   50%           75%           max  \n",
       "Label     4.640000e+02  1.200000e+03  9.994000e+03  \n",
       "pecan_id  2.405182e+11  3.264175e+11  4.209068e+11  \n",
       "category  9.650000e+02  1.579000e+03  2.986000e+03  \n",
       "year      2.017000e+03  2.018000e+03  2.019000e+03  \n",
       "month     6.000000e+00  1.000000e+01  1.200000e+01  "
      ]
     },
     "execution_count": 89,
     "metadata": {},
     "output_type": "execute_result"
    }
   ],
   "source": [
    "full_df[(full_df['Label']<10000) & (full_df['Label']>0)].describe().transpose()"
   ]
  },
  {
   "cell_type": "code",
   "execution_count": 91,
   "metadata": {},
   "outputs": [
    {
     "data": {
      "text/html": [
       "<div>\n",
       "<style scoped>\n",
       "    .dataframe tbody tr th:only-of-type {\n",
       "        vertical-align: middle;\n",
       "    }\n",
       "\n",
       "    .dataframe tbody tr th {\n",
       "        vertical-align: top;\n",
       "    }\n",
       "\n",
       "    .dataframe thead th {\n",
       "        text-align: right;\n",
       "    }\n",
       "</style>\n",
       "<table border=\"1\" class=\"dataframe\">\n",
       "  <thead>\n",
       "    <tr style=\"text-align: right;\">\n",
       "      <th></th>\n",
       "      <th>count</th>\n",
       "      <th>mean</th>\n",
       "      <th>std</th>\n",
       "      <th>min</th>\n",
       "      <th>25%</th>\n",
       "      <th>50%</th>\n",
       "      <th>75%</th>\n",
       "      <th>max</th>\n",
       "    </tr>\n",
       "  </thead>\n",
       "  <tbody>\n",
       "    <tr>\n",
       "      <th>Label</th>\n",
       "      <td>108539.0</td>\n",
       "      <td>1.193107e+03</td>\n",
       "      <td>3.952964e+03</td>\n",
       "      <td>-2026.0</td>\n",
       "      <td>0.000000e+00</td>\n",
       "      <td>1.200000e+02</td>\n",
       "      <td>7.500000e+02</td>\n",
       "      <td>8.664800e+04</td>\n",
       "    </tr>\n",
       "    <tr>\n",
       "      <th>pecan_id</th>\n",
       "      <td>108539.0</td>\n",
       "      <td>2.256543e+11</td>\n",
       "      <td>1.154285e+11</td>\n",
       "      <td>0.0</td>\n",
       "      <td>1.288490e+11</td>\n",
       "      <td>2.319282e+11</td>\n",
       "      <td>3.264175e+11</td>\n",
       "      <td>4.209068e+11</td>\n",
       "    </tr>\n",
       "    <tr>\n",
       "      <th>category</th>\n",
       "      <td>108539.0</td>\n",
       "      <td>1.149913e+03</td>\n",
       "      <td>7.221821e+02</td>\n",
       "      <td>0.0</td>\n",
       "      <td>5.340000e+02</td>\n",
       "      <td>1.094000e+03</td>\n",
       "      <td>1.706000e+03</td>\n",
       "      <td>2.986000e+03</td>\n",
       "    </tr>\n",
       "    <tr>\n",
       "      <th>year</th>\n",
       "      <td>108539.0</td>\n",
       "      <td>2.016902e+03</td>\n",
       "      <td>1.166249e+00</td>\n",
       "      <td>2015.0</td>\n",
       "      <td>2.016000e+03</td>\n",
       "      <td>2.017000e+03</td>\n",
       "      <td>2.018000e+03</td>\n",
       "      <td>2.019000e+03</td>\n",
       "    </tr>\n",
       "    <tr>\n",
       "      <th>month</th>\n",
       "      <td>108539.0</td>\n",
       "      <td>6.441648e+00</td>\n",
       "      <td>3.482978e+00</td>\n",
       "      <td>1.0</td>\n",
       "      <td>3.000000e+00</td>\n",
       "      <td>6.000000e+00</td>\n",
       "      <td>1.000000e+01</td>\n",
       "      <td>1.200000e+01</td>\n",
       "    </tr>\n",
       "  </tbody>\n",
       "</table>\n",
       "</div>"
      ],
      "text/plain": [
       "             count          mean           std     min           25%  \\\n",
       "Label     108539.0  1.193107e+03  3.952964e+03 -2026.0  0.000000e+00   \n",
       "pecan_id  108539.0  2.256543e+11  1.154285e+11     0.0  1.288490e+11   \n",
       "category  108539.0  1.149913e+03  7.221821e+02     0.0  5.340000e+02   \n",
       "year      108539.0  2.016902e+03  1.166249e+00  2015.0  2.016000e+03   \n",
       "month     108539.0  6.441648e+00  3.482978e+00     1.0  3.000000e+00   \n",
       "\n",
       "                   50%           75%           max  \n",
       "Label     1.200000e+02  7.500000e+02  8.664800e+04  \n",
       "pecan_id  2.319282e+11  3.264175e+11  4.209068e+11  \n",
       "category  1.094000e+03  1.706000e+03  2.986000e+03  \n",
       "year      2.017000e+03  2.018000e+03  2.019000e+03  \n",
       "month     6.000000e+00  1.000000e+01  1.200000e+01  "
      ]
     },
     "execution_count": 91,
     "metadata": {},
     "output_type": "execute_result"
    }
   ],
   "source": [
    "full_df.describe().transpose()"
   ]
  },
  {
   "cell_type": "code",
   "execution_count": 105,
   "metadata": {},
   "outputs": [],
   "source": [
    "cat_485 = full_df[full_df['category']==485].sort_values(by=['Marker'])"
   ]
  },
  {
   "cell_type": "code",
   "execution_count": 141,
   "metadata": {},
   "outputs": [
    {
     "name": "stdout",
     "output_type": "stream",
     "text": [
      "<class 'pandas.core.frame.DataFrame'>\n",
      "Int64Index: 50 entries, 28008 to 8701\n",
      "Data columns (total 7 columns):\n",
      "Marker      50 non-null object\n",
      "Label       50 non-null float64\n",
      "pecan_id    50 non-null int64\n",
      "category    50 non-null float64\n",
      "date        50 non-null datetime64[ns]\n",
      "year        50 non-null int64\n",
      "month       50 non-null int64\n",
      "dtypes: datetime64[ns](1), float64(2), int64(3), object(1)\n",
      "memory usage: 3.1+ KB\n"
     ]
    }
   ],
   "source": [
    "cat_485.info()"
   ]
  },
  {
   "cell_type": "code",
   "execution_count": 107,
   "metadata": {},
   "outputs": [
    {
     "data": {
      "text/plain": [
       "7304.0"
      ]
     },
     "execution_count": 107,
     "metadata": {},
     "output_type": "execute_result"
    }
   ],
   "source": [
    "cat_485.iloc[1]['Label']"
   ]
  },
  {
   "cell_type": "code",
   "execution_count": 131,
   "metadata": {},
   "outputs": [],
   "source": [
    "df_485 = pd.DataFrame(columns=['n-2','n-1','n','y'])\n",
    "i = 2\n",
    "\n",
    "while True:\n",
    "    try:\n",
    "        new_line = {'n-2': cat_485.iloc[i-2]['Label'],'n-1': cat_485.iloc[i-1]['Label'],'n': cat_485.iloc[i]['Label'],'y':cat_485.iloc[i+1]['Label']}\n",
    "        df_485 = df_485.append(new_line,ignore_index=True)\n",
    "        i+=1\n",
    "    except:\n",
    "        break"
   ]
  },
  {
   "cell_type": "code",
   "execution_count": 148,
   "metadata": {},
   "outputs": [
    {
     "data": {
      "text/plain": [
       "'2015-04-01'"
      ]
     },
     "execution_count": 148,
     "metadata": {},
     "output_type": "execute_result"
    }
   ],
   "source": [
    "test.index[0+1]"
   ]
  },
  {
   "cell_type": "code",
   "execution_count": 139,
   "metadata": {},
   "outputs": [
    {
     "name": "stdout",
     "output_type": "stream",
     "text": [
      "cat 485 by date\n",
      "------------------\n",
      "            Marker    Label      pecan_id  category       date  year  month\n",
      "28008  2015-03-01  11604.0           479     485.0 2015-03-01  2015      3\n",
      "60898  2015-04-01   7304.0    8589934663     485.0 2015-04-01  2015      4\n",
      "19157  2015-05-01   7304.0   17179869753     485.0 2015-05-01  2015      5\n",
      "46508  2015-06-01   5074.0   25769804580     485.0 2015-06-01  2015      6\n",
      "13029  2015-07-01   1812.0   34359738486     485.0 2015-07-01  2015      7\n",
      "63887  2015-08-01   9144.0   42949673819     485.0 2015-08-01  2015      8\n",
      "7445   2015-09-01   9664.0   51539608296     485.0 2015-09-01  2015      9\n",
      "88750  2015-10-01   9802.0   60129542285     485.0 2015-10-01  2015     10\n",
      "88128  2015-11-01   9942.0   68719477645     485.0 2015-11-01  2015     11\n",
      "181    2015-12-01  10566.0   77309412162     485.0 2015-12-01  2015     12\n",
      "37397  2016-01-01   9824.0   85899346083     485.0 2016-01-01  2016      1\n",
      "45401  2016-02-01   6012.0   94489281490     485.0 2016-02-01  2016      2\n",
      "40825  2016-03-01   5992.0  103079216009     485.0 2016-03-01  2016      3\n",
      "46285  2016-04-01   5754.0  111669150652     485.0 2016-04-01  2016      4\n",
      "37086  2016-05-01   5614.0  120259084475     485.0 2016-05-01  2016      5\n",
      "50095  2016-06-01   6176.0  128849019865     485.0 2016-06-01  2016      6\n",
      "11074  2016-07-01   5776.0  137438954082     485.0 2016-07-01  2016      7\n",
      "79626  2016-08-01   2786.0  146028888266     485.0 2016-08-01  2016      8\n",
      "32806  2016-09-01   3994.0  154618822860     485.0 2016-09-01  2016      9\n",
      "39213  2016-10-01   5700.0  163208757452     485.0 2016-10-01  2016     10\n",
      "38171  2016-11-01   7106.0  171798693006     485.0 2016-11-01  2016     11\n",
      "53310  2016-12-01   6252.0  180388627263     485.0 2016-12-01  2016     12\n",
      "60484  2017-01-01   6302.0  188978563025     485.0 2017-01-01  2017      1\n",
      "84662  2017-02-01   8990.0  197568496819     485.0 2017-02-01  2017      2\n",
      "40497  2017-03-01   7862.0  206158430918     485.0 2017-03-01  2017      3\n",
      "56283  2017-04-01   6306.0  214748365875     485.0 2017-04-01  2017      4\n",
      "48221  2017-05-01   6596.0  223338300468     485.0 2017-05-01  2017      5\n",
      "78454  2017-06-01   6694.0  231928235070     485.0 2017-06-01  2017      6\n",
      "63283  2017-07-01   9146.0  240518168793     485.0 2017-07-01  2017      7\n",
      "13251  2017-08-01   6428.0  249108103386     485.0 2017-08-01  2017      8\n",
      "65211  2017-09-01   9280.0  257698038862     485.0 2017-09-01  2017      9\n",
      "0      2017-10-01   9748.0  266287972570     485.0 2017-10-01  2017     10\n",
      "83557  2017-11-01   8344.0  274877908395     485.0 2017-11-01  2017     11\n",
      "10998  2017-12-01   9522.0  283467842042     485.0 2017-12-01  2017     12\n",
      "30213  2018-01-01   7500.0  292057777219     485.0 2018-01-01  2018      1\n",
      "11486  2018-02-01   7300.0  300647711032     485.0 2018-02-01  2018      2\n",
      "3105   2018-03-01   5048.0  309237646695     485.0 2018-03-01  2018      3\n",
      "33654  2018-04-01   5700.0  317827580626     485.0 2018-04-01  2018      4\n",
      "80     2018-05-01   7632.0  326417515556     485.0 2018-05-01  2018      5\n",
      "41134  2018-06-01   6854.0  335007449624     485.0 2018-06-01  2018      6\n",
      "871    2018-07-01   8652.0  343597383886     485.0 2018-07-01  2018      7\n",
      "25567  2018-08-01  11602.0  352187318479     485.0 2018-08-01  2018      8\n",
      "80347  2018-09-01  12124.0  360777253071     485.0 2018-09-01  2018      9\n",
      "80959  2018-10-01  12374.0  369367187662     485.0 2018-10-01  2018     10\n",
      "1825   2018-11-01   2950.0  377957123148     485.0 2018-11-01  2018     11\n",
      "69     2018-12-01   3380.0  386547056978     485.0 2018-12-01  2018     12\n",
      "11119  2019-01-01   2480.0  395136992219     485.0 2019-01-01  2019      1\n",
      "8348   2019-02-01   3472.0  403726926650     485.0 2019-02-01  2019      2\n",
      "8164   2019-03-01   3852.0  412316861048     485.0 2019-03-01  2019      3\n",
      "8701   2019-04-01   6082.0  420906795769     485.0 2019-04-01  2019      4 \n",
      "-------------------\n",
      " cat 458 regression\n",
      "----------\n",
      "         n-2      n-1        n        y\n",
      "0   11604.0   7304.0   7304.0   5074.0\n",
      "1    7304.0   7304.0   5074.0   1812.0\n",
      "2    7304.0   5074.0   1812.0   9144.0\n",
      "3    5074.0   1812.0   9144.0   9664.0\n",
      "4    1812.0   9144.0   9664.0   9802.0\n",
      "5    9144.0   9664.0   9802.0   9942.0\n",
      "6    9664.0   9802.0   9942.0  10566.0\n",
      "7    9802.0   9942.0  10566.0   9824.0\n",
      "8    9942.0  10566.0   9824.0   6012.0\n",
      "9   10566.0   9824.0   6012.0   5992.0\n",
      "10   9824.0   6012.0   5992.0   5754.0\n",
      "11   6012.0   5992.0   5754.0   5614.0\n",
      "12   5992.0   5754.0   5614.0   6176.0\n",
      "13   5754.0   5614.0   6176.0   5776.0\n",
      "14   5614.0   6176.0   5776.0   2786.0\n",
      "15   6176.0   5776.0   2786.0   3994.0\n",
      "16   5776.0   2786.0   3994.0   5700.0\n",
      "17   2786.0   3994.0   5700.0   7106.0\n",
      "18   3994.0   5700.0   7106.0   6252.0\n",
      "19   5700.0   7106.0   6252.0   6302.0\n",
      "20   7106.0   6252.0   6302.0   8990.0\n",
      "21   6252.0   6302.0   8990.0   7862.0\n",
      "22   6302.0   8990.0   7862.0   6306.0\n",
      "23   8990.0   7862.0   6306.0   6596.0\n",
      "24   7862.0   6306.0   6596.0   6694.0\n",
      "25   6306.0   6596.0   6694.0   9146.0\n",
      "26   6596.0   6694.0   9146.0   6428.0\n",
      "27   6694.0   9146.0   6428.0   9280.0\n",
      "28   9146.0   6428.0   9280.0   9748.0\n",
      "29   6428.0   9280.0   9748.0   8344.0\n",
      "30   9280.0   9748.0   8344.0   9522.0\n",
      "31   9748.0   8344.0   9522.0   7500.0\n",
      "32   8344.0   9522.0   7500.0   7300.0\n",
      "33   9522.0   7500.0   7300.0   5048.0\n",
      "34   7500.0   7300.0   5048.0   5700.0\n",
      "35   7300.0   5048.0   5700.0   7632.0\n",
      "36   5048.0   5700.0   7632.0   6854.0\n",
      "37   5700.0   7632.0   6854.0   8652.0\n",
      "38   7632.0   6854.0   8652.0  11602.0\n",
      "39   6854.0   8652.0  11602.0  12124.0\n",
      "40   8652.0  11602.0  12124.0  12374.0\n",
      "41  11602.0  12124.0  12374.0   2950.0\n",
      "42  12124.0  12374.0   2950.0   3380.0\n",
      "43  12374.0   2950.0   3380.0   2480.0\n",
      "44   2950.0   3380.0   2480.0   3472.0\n",
      "45   3380.0   2480.0   3472.0   3852.0\n",
      "46   2480.0   3472.0   3852.0   6082.0\n"
     ]
    }
   ],
   "source": [
    "print('cat 485 by date\\n------------------\\n', cat_485,'\\n-------------------\\n cat 458 regression\\n----------\\n', df_485)"
   ]
  },
  {
   "cell_type": "code",
   "execution_count": 132,
   "metadata": {},
   "outputs": [
    {
     "data": {
      "text/html": [
       "<div>\n",
       "<style scoped>\n",
       "    .dataframe tbody tr th:only-of-type {\n",
       "        vertical-align: middle;\n",
       "    }\n",
       "\n",
       "    .dataframe tbody tr th {\n",
       "        vertical-align: top;\n",
       "    }\n",
       "\n",
       "    .dataframe thead th {\n",
       "        text-align: right;\n",
       "    }\n",
       "</style>\n",
       "<table border=\"1\" class=\"dataframe\">\n",
       "  <thead>\n",
       "    <tr style=\"text-align: right;\">\n",
       "      <th></th>\n",
       "      <th>n-2</th>\n",
       "      <th>n-1</th>\n",
       "      <th>n</th>\n",
       "      <th>y</th>\n",
       "    </tr>\n",
       "  </thead>\n",
       "  <tbody>\n",
       "    <tr>\n",
       "      <th>0</th>\n",
       "      <td>5054.0</td>\n",
       "      <td>4784.0</td>\n",
       "      <td>4114.0</td>\n",
       "      <td>3604.0</td>\n",
       "    </tr>\n",
       "    <tr>\n",
       "      <th>1</th>\n",
       "      <td>4784.0</td>\n",
       "      <td>4114.0</td>\n",
       "      <td>3604.0</td>\n",
       "      <td>3894.0</td>\n",
       "    </tr>\n",
       "    <tr>\n",
       "      <th>2</th>\n",
       "      <td>4114.0</td>\n",
       "      <td>3604.0</td>\n",
       "      <td>3894.0</td>\n",
       "      <td>2108.0</td>\n",
       "    </tr>\n",
       "    <tr>\n",
       "      <th>3</th>\n",
       "      <td>3604.0</td>\n",
       "      <td>3894.0</td>\n",
       "      <td>2108.0</td>\n",
       "      <td>1954.0</td>\n",
       "    </tr>\n",
       "    <tr>\n",
       "      <th>4</th>\n",
       "      <td>3894.0</td>\n",
       "      <td>2108.0</td>\n",
       "      <td>1954.0</td>\n",
       "      <td>1594.0</td>\n",
       "    </tr>\n",
       "    <tr>\n",
       "      <th>5</th>\n",
       "      <td>2108.0</td>\n",
       "      <td>1954.0</td>\n",
       "      <td>1594.0</td>\n",
       "      <td>1696.0</td>\n",
       "    </tr>\n",
       "    <tr>\n",
       "      <th>6</th>\n",
       "      <td>1954.0</td>\n",
       "      <td>1594.0</td>\n",
       "      <td>1696.0</td>\n",
       "      <td>1656.0</td>\n",
       "    </tr>\n",
       "  </tbody>\n",
       "</table>\n",
       "</div>"
      ],
      "text/plain": [
       "      n-2     n-1       n       y\n",
       "0  5054.0  4784.0  4114.0  3604.0\n",
       "1  4784.0  4114.0  3604.0  3894.0\n",
       "2  4114.0  3604.0  3894.0  2108.0\n",
       "3  3604.0  3894.0  2108.0  1954.0\n",
       "4  3894.0  2108.0  1954.0  1594.0\n",
       "5  2108.0  1954.0  1594.0  1696.0\n",
       "6  1954.0  1594.0  1696.0  1656.0"
      ]
     },
     "execution_count": 132,
     "metadata": {},
     "output_type": "execute_result"
    }
   ],
   "source": [
    "cat_test_485 = test_df[test_df['category']==485].sort_values(by=['Marker'])\n",
    "test_df_485 = pd.DataFrame(columns=['n-2','n-1','n','y'])\n",
    "i = 2\n",
    "\n",
    "while True:\n",
    "    try:\n",
    "        new_line = {'n-2': test_485.iloc[i-2]['Label'],'n-1': test_485.iloc[i-1]['Label'],'n': test_485.iloc[i]['Label'],'y':test_485.iloc[i+1]['Label']}\n",
    "        test_df_485 = test_df_485.append(new_line,ignore_index=True)\n",
    "        i+=1\n",
    "    except:\n",
    "        break\n",
    "        \n",
    "test_df_485"
   ]
  },
  {
   "cell_type": "code",
   "execution_count": 137,
   "metadata": {},
   "outputs": [
    {
     "name": "stdout",
     "output_type": "stream",
     "text": [
      "R^2: -8.57731919042719\n",
      "MAE: 2701.9982056811896\n",
      "MSE: 7733373.29930204\n",
      "RMSE: 2780.8943344366826\n"
     ]
    },
    {
     "data": {
      "image/png": "[encoded data removed]",
      "text/plain": [
       "<Figure size 432x288 with 1 Axes>"
      ]
     },
     "metadata": {
      "needs_background": "light"
     },
     "output_type": "display_data"
    }
   ],
   "source": [
    "from sklearn.linear_model import LinearRegression\n",
    "from sklearn import metrics\n",
    "\n",
    "lm = LinearRegression()\n",
    "lm.fit(df_485[['n-2','n-1','n']], df_485['y'])\n",
    "pred = lm.predict(test_df_485.drop(['y'], axis=1))\n",
    "    \n",
    "# Evaluation\n",
    "plt.scatter(test_df_485['y'], pred)\n",
    "plt.plot(test_df_485['y'],test_df_485['y'],c='r')\n",
    "plt.xlabel('True')\n",
    "plt.ylabel('Pred')\n",
    "# plt.show()\n",
    "print('R^2:', metrics.r2_score(test_df_485['y'], pred))\n",
    "print('MAE:', metrics.mean_absolute_error(test_df_485['y'], pred))\n",
    "print('MSE:', metrics.mean_squared_error(test_df_485['y'], pred))\n",
    "print('RMSE:', np.sqrt(metrics.mean_squared_error(test_df_485['y'], pred)))\n",
    "# sns.distplot((test_df_485['y'] - pred))\n",
    "# plt.show()"
   ]
  },
  {
   "cell_type": "code",
   "execution_count": 160,
   "metadata": {},
   "outputs": [
    {
     "data": {
      "text/plain": [
       "array([2., 2., 2., 2.])"
      ]
     },
     "execution_count": 160,
     "metadata": {},
     "output_type": "execute_result"
    }
   ],
   "source": [
    "np.array([2,4,6,8])/np.array([1,2,3,4])"
   ]
  },
  {
   "cell_type": "code",
   "execution_count": 227,
   "metadata": {},
   "outputs": [
    {
     "ename": "FileNotFoundError",
     "evalue": "[Errno 2] File b'data/evaluations/train_reg_non_zero.csv' does not exist: b'data/evaluations/train_reg_non_zero.csv'",
     "output_type": "error",
     "traceback": [
      "\u001b[1;31m---------------------------------------------------------------------------\u001b[0m",
      "\u001b[1;31mFileNotFoundError\u001b[0m                         Traceback (most recent call last)",
      "\u001b[1;32m<ipython-input-227-634fb8333b2a>\u001b[0m in \u001b[0;36m<module>\u001b[1;34m\u001b[0m\n\u001b[1;32m----> 1\u001b[1;33m \u001b[0mtrain_non_zero\u001b[0m \u001b[1;33m=\u001b[0m \u001b[0mpd\u001b[0m\u001b[1;33m.\u001b[0m\u001b[0mread_csv\u001b[0m\u001b[1;33m(\u001b[0m\u001b[1;34m'data/evaluations/train_reg_non_zero.csv'\u001b[0m\u001b[1;33m)\u001b[0m\u001b[1;33m\u001b[0m\u001b[1;33m\u001b[0m\u001b[0m\n\u001b[0m\u001b[0;32m      2\u001b[0m \u001b[0mtest_non_zero\u001b[0m \u001b[1;33m=\u001b[0m \u001b[0mpd\u001b[0m\u001b[1;33m.\u001b[0m\u001b[0mread_csv\u001b[0m\u001b[1;33m(\u001b[0m\u001b[1;34m'data/postprocess_data/test_reg_non_zero.csv'\u001b[0m\u001b[1;33m)\u001b[0m\u001b[1;33m\u001b[0m\u001b[1;33m\u001b[0m\u001b[0m\n",
      "\u001b[1;32m~\\AppData\\Local\\Continuum\\anaconda3\\lib\\site-packages\\pandas\\io\\parsers.py\u001b[0m in \u001b[0;36mparser_f\u001b[1;34m(filepath_or_buffer, sep, delimiter, header, names, index_col, usecols, squeeze, prefix, mangle_dupe_cols, dtype, engine, converters, true_values, false_values, skipinitialspace, skiprows, skipfooter, nrows, na_values, keep_default_na, na_filter, verbose, skip_blank_lines, parse_dates, infer_datetime_format, keep_date_col, date_parser, dayfirst, iterator, chunksize, compression, thousands, decimal, lineterminator, quotechar, quoting, doublequote, escapechar, comment, encoding, dialect, tupleize_cols, error_bad_lines, warn_bad_lines, delim_whitespace, low_memory, memory_map, float_precision)\u001b[0m\n\u001b[0;32m    700\u001b[0m                     skip_blank_lines=skip_blank_lines)\n\u001b[0;32m    701\u001b[0m \u001b[1;33m\u001b[0m\u001b[0m\n\u001b[1;32m--> 702\u001b[1;33m         \u001b[1;32mreturn\u001b[0m \u001b[0m_read\u001b[0m\u001b[1;33m(\u001b[0m\u001b[0mfilepath_or_buffer\u001b[0m\u001b[1;33m,\u001b[0m \u001b[0mkwds\u001b[0m\u001b[1;33m)\u001b[0m\u001b[1;33m\u001b[0m\u001b[1;33m\u001b[0m\u001b[0m\n\u001b[0m\u001b[0;32m    703\u001b[0m \u001b[1;33m\u001b[0m\u001b[0m\n\u001b[0;32m    704\u001b[0m     \u001b[0mparser_f\u001b[0m\u001b[1;33m.\u001b[0m\u001b[0m__name__\u001b[0m \u001b[1;33m=\u001b[0m \u001b[0mname\u001b[0m\u001b[1;33m\u001b[0m\u001b[1;33m\u001b[0m\u001b[0m\n",
      "\u001b[1;32m~\\AppData\\Local\\Continuum\\anaconda3\\lib\\site-packages\\pandas\\io\\parsers.py\u001b[0m in \u001b[0;36m_read\u001b[1;34m(filepath_or_buffer, kwds)\u001b[0m\n\u001b[0;32m    427\u001b[0m \u001b[1;33m\u001b[0m\u001b[0m\n\u001b[0;32m    428\u001b[0m     \u001b[1;31m# Create the parser.\u001b[0m\u001b[1;33m\u001b[0m\u001b[1;33m\u001b[0m\u001b[1;33m\u001b[0m\u001b[0m\n\u001b[1;32m--> 429\u001b[1;33m     \u001b[0mparser\u001b[0m \u001b[1;33m=\u001b[0m \u001b[0mTextFileReader\u001b[0m\u001b[1;33m(\u001b[0m\u001b[0mfilepath_or_buffer\u001b[0m\u001b[1;33m,\u001b[0m \u001b[1;33m**\u001b[0m\u001b[0mkwds\u001b[0m\u001b[1;33m)\u001b[0m\u001b[1;33m\u001b[0m\u001b[1;33m\u001b[0m\u001b[0m\n\u001b[0m\u001b[0;32m    430\u001b[0m \u001b[1;33m\u001b[0m\u001b[0m\n\u001b[0;32m    431\u001b[0m     \u001b[1;32mif\u001b[0m \u001b[0mchunksize\u001b[0m \u001b[1;32mor\u001b[0m \u001b[0miterator\u001b[0m\u001b[1;33m:\u001b[0m\u001b[1;33m\u001b[0m\u001b[1;33m\u001b[0m\u001b[0m\n",
      "\u001b[1;32m~\\AppData\\Local\\Continuum\\anaconda3\\lib\\site-packages\\pandas\\io\\parsers.py\u001b[0m in \u001b[0;36m__init__\u001b[1;34m(self, f, engine, **kwds)\u001b[0m\n\u001b[0;32m    893\u001b[0m             \u001b[0mself\u001b[0m\u001b[1;33m.\u001b[0m\u001b[0moptions\u001b[0m\u001b[1;33m[\u001b[0m\u001b[1;34m'has_index_names'\u001b[0m\u001b[1;33m]\u001b[0m \u001b[1;33m=\u001b[0m \u001b[0mkwds\u001b[0m\u001b[1;33m[\u001b[0m\u001b[1;34m'has_index_names'\u001b[0m\u001b[1;33m]\u001b[0m\u001b[1;33m\u001b[0m\u001b[1;33m\u001b[0m\u001b[0m\n\u001b[0;32m    894\u001b[0m \u001b[1;33m\u001b[0m\u001b[0m\n\u001b[1;32m--> 895\u001b[1;33m         \u001b[0mself\u001b[0m\u001b[1;33m.\u001b[0m\u001b[0m_make_engine\u001b[0m\u001b[1;33m(\u001b[0m\u001b[0mself\u001b[0m\u001b[1;33m.\u001b[0m\u001b[0mengine\u001b[0m\u001b[1;33m)\u001b[0m\u001b[1;33m\u001b[0m\u001b[1;33m\u001b[0m\u001b[0m\n\u001b[0m\u001b[0;32m    896\u001b[0m \u001b[1;33m\u001b[0m\u001b[0m\n\u001b[0;32m    897\u001b[0m     \u001b[1;32mdef\u001b[0m \u001b[0mclose\u001b[0m\u001b[1;33m(\u001b[0m\u001b[0mself\u001b[0m\u001b[1;33m)\u001b[0m\u001b[1;33m:\u001b[0m\u001b[1;33m\u001b[0m\u001b[1;33m\u001b[0m\u001b[0m\n",
      "\u001b[1;32m~\\AppData\\Local\\Continuum\\anaconda3\\lib\\site-packages\\pandas\\io\\parsers.py\u001b[0m in \u001b[0;36m_make_engine\u001b[1;34m(self, engine)\u001b[0m\n\u001b[0;32m   1120\u001b[0m     \u001b[1;32mdef\u001b[0m \u001b[0m_make_engine\u001b[0m\u001b[1;33m(\u001b[0m\u001b[0mself\u001b[0m\u001b[1;33m,\u001b[0m \u001b[0mengine\u001b[0m\u001b[1;33m=\u001b[0m\u001b[1;34m'c'\u001b[0m\u001b[1;33m)\u001b[0m\u001b[1;33m:\u001b[0m\u001b[1;33m\u001b[0m\u001b[1;33m\u001b[0m\u001b[0m\n\u001b[0;32m   1121\u001b[0m         \u001b[1;32mif\u001b[0m \u001b[0mengine\u001b[0m \u001b[1;33m==\u001b[0m \u001b[1;34m'c'\u001b[0m\u001b[1;33m:\u001b[0m\u001b[1;33m\u001b[0m\u001b[1;33m\u001b[0m\u001b[0m\n\u001b[1;32m-> 1122\u001b[1;33m             \u001b[0mself\u001b[0m\u001b[1;33m.\u001b[0m\u001b[0m_engine\u001b[0m \u001b[1;33m=\u001b[0m \u001b[0mCParserWrapper\u001b[0m\u001b[1;33m(\u001b[0m\u001b[0mself\u001b[0m\u001b[1;33m.\u001b[0m\u001b[0mf\u001b[0m\u001b[1;33m,\u001b[0m \u001b[1;33m**\u001b[0m\u001b[0mself\u001b[0m\u001b[1;33m.\u001b[0m\u001b[0moptions\u001b[0m\u001b[1;33m)\u001b[0m\u001b[1;33m\u001b[0m\u001b[1;33m\u001b[0m\u001b[0m\n\u001b[0m\u001b[0;32m   1123\u001b[0m         \u001b[1;32melse\u001b[0m\u001b[1;33m:\u001b[0m\u001b[1;33m\u001b[0m\u001b[1;33m\u001b[0m\u001b[0m\n\u001b[0;32m   1124\u001b[0m             \u001b[1;32mif\u001b[0m \u001b[0mengine\u001b[0m \u001b[1;33m==\u001b[0m \u001b[1;34m'python'\u001b[0m\u001b[1;33m:\u001b[0m\u001b[1;33m\u001b[0m\u001b[1;33m\u001b[0m\u001b[0m\n",
      "\u001b[1;32m~\\AppData\\Local\\Continuum\\anaconda3\\lib\\site-packages\\pandas\\io\\parsers.py\u001b[0m in \u001b[0;36m__init__\u001b[1;34m(self, src, **kwds)\u001b[0m\n\u001b[0;32m   1851\u001b[0m         \u001b[0mkwds\u001b[0m\u001b[1;33m[\u001b[0m\u001b[1;34m'usecols'\u001b[0m\u001b[1;33m]\u001b[0m \u001b[1;33m=\u001b[0m \u001b[0mself\u001b[0m\u001b[1;33m.\u001b[0m\u001b[0musecols\u001b[0m\u001b[1;33m\u001b[0m\u001b[1;33m\u001b[0m\u001b[0m\n\u001b[0;32m   1852\u001b[0m \u001b[1;33m\u001b[0m\u001b[0m\n\u001b[1;32m-> 1853\u001b[1;33m         \u001b[0mself\u001b[0m\u001b[1;33m.\u001b[0m\u001b[0m_reader\u001b[0m \u001b[1;33m=\u001b[0m \u001b[0mparsers\u001b[0m\u001b[1;33m.\u001b[0m\u001b[0mTextReader\u001b[0m\u001b[1;33m(\u001b[0m\u001b[0msrc\u001b[0m\u001b[1;33m,\u001b[0m \u001b[1;33m**\u001b[0m\u001b[0mkwds\u001b[0m\u001b[1;33m)\u001b[0m\u001b[1;33m\u001b[0m\u001b[1;33m\u001b[0m\u001b[0m\n\u001b[0m\u001b[0;32m   1854\u001b[0m         \u001b[0mself\u001b[0m\u001b[1;33m.\u001b[0m\u001b[0munnamed_cols\u001b[0m \u001b[1;33m=\u001b[0m \u001b[0mself\u001b[0m\u001b[1;33m.\u001b[0m\u001b[0m_reader\u001b[0m\u001b[1;33m.\u001b[0m\u001b[0munnamed_cols\u001b[0m\u001b[1;33m\u001b[0m\u001b[1;33m\u001b[0m\u001b[0m\n\u001b[0;32m   1855\u001b[0m \u001b[1;33m\u001b[0m\u001b[0m\n",
      "\u001b[1;32mpandas/_libs/parsers.pyx\u001b[0m in \u001b[0;36mpandas._libs.parsers.TextReader.__cinit__\u001b[1;34m()\u001b[0m\n",
      "\u001b[1;32mpandas/_libs/parsers.pyx\u001b[0m in \u001b[0;36mpandas._libs.parsers.TextReader._setup_parser_source\u001b[1;34m()\u001b[0m\n",
      "\u001b[1;31mFileNotFoundError\u001b[0m: [Errno 2] File b'data/evaluations/train_reg_non_zero.csv' does not exist: b'data/evaluations/train_reg_non_zero.csv'"
     ]
    }
   ],
   "source": [
    "train_non_zero = pd.read_csv('data/postprocess_data/train_reg_non_zero.csv')\n",
    "test_non_zero = pd.read_csv('data/postprocess_data/test_reg_non_zero.csv')"
   ]
  },
  {
   "cell_type": "code",
   "execution_count": 180,
   "metadata": {},
   "outputs": [
    {
     "data": {
      "text/plain": [
       "count    108539.000000\n",
       "mean       1193.107429\n",
       "std        3952.963927\n",
       "min       -2026.000000\n",
       "25%           0.000000\n",
       "50%         120.000000\n",
       "75%         750.000000\n",
       "max       86648.000000\n",
       "Name: Label, dtype: float64"
      ]
     },
     "execution_count": 180,
     "metadata": {},
     "output_type": "execute_result"
    }
   ],
   "source": [
    "full_df['Label'].describe().transpose()"
   ]
  },
  {
   "cell_type": "code",
   "execution_count": 183,
   "metadata": {},
   "outputs": [],
   "source": [
    "new_train = pd.read_csv('data/postprocess_data/train_all_markers_and_category.csv')\n",
    "new_test = pd.read_csv('data/postprocess_data/test_all_markers_and_category.csv')"
   ]
  },
  {
   "cell_type": "code",
   "execution_count": 185,
   "metadata": {},
   "outputs": [
    {
     "data": {
      "text/html": [
       "<div>\n",
       "<style scoped>\n",
       "    .dataframe tbody tr th:only-of-type {\n",
       "        vertical-align: middle;\n",
       "    }\n",
       "\n",
       "    .dataframe tbody tr th {\n",
       "        vertical-align: top;\n",
       "    }\n",
       "\n",
       "    .dataframe thead th {\n",
       "        text-align: right;\n",
       "    }\n",
       "</style>\n",
       "<table border=\"1\" class=\"dataframe\">\n",
       "  <thead>\n",
       "    <tr style=\"text-align: right;\">\n",
       "      <th></th>\n",
       "      <th>Label</th>\n",
       "      <th>pecan_id</th>\n",
       "      <th>category</th>\n",
       "    </tr>\n",
       "  </thead>\n",
       "  <tbody>\n",
       "    <tr>\n",
       "      <th>count</th>\n",
       "      <td>152337.000000</td>\n",
       "      <td>1.523370e+05</td>\n",
       "      <td>152337.000000</td>\n",
       "    </tr>\n",
       "    <tr>\n",
       "      <th>mean</th>\n",
       "      <td>850.080330</td>\n",
       "      <td>1.607770e+11</td>\n",
       "      <td>1493.000000</td>\n",
       "    </tr>\n",
       "    <tr>\n",
       "      <th>std</th>\n",
       "      <td>3380.078344</td>\n",
       "      <td>1.411520e+11</td>\n",
       "      <td>862.275409</td>\n",
       "    </tr>\n",
       "    <tr>\n",
       "      <th>min</th>\n",
       "      <td>-2026.000000</td>\n",
       "      <td>0.000000e+00</td>\n",
       "      <td>0.000000</td>\n",
       "    </tr>\n",
       "    <tr>\n",
       "      <th>25%</th>\n",
       "      <td>0.000000</td>\n",
       "      <td>0.000000e+00</td>\n",
       "      <td>746.000000</td>\n",
       "    </tr>\n",
       "    <tr>\n",
       "      <th>50%</th>\n",
       "      <td>0.000000</td>\n",
       "      <td>1.546188e+11</td>\n",
       "      <td>1493.000000</td>\n",
       "    </tr>\n",
       "    <tr>\n",
       "      <th>75%</th>\n",
       "      <td>400.000000</td>\n",
       "      <td>2.834678e+11</td>\n",
       "      <td>2240.000000</td>\n",
       "    </tr>\n",
       "    <tr>\n",
       "      <th>max</th>\n",
       "      <td>86648.000000</td>\n",
       "      <td>4.209068e+11</td>\n",
       "      <td>2986.000000</td>\n",
       "    </tr>\n",
       "  </tbody>\n",
       "</table>\n",
       "</div>"
      ],
      "text/plain": [
       "               Label      pecan_id       category\n",
       "count  152337.000000  1.523370e+05  152337.000000\n",
       "mean      850.080330  1.607770e+11    1493.000000\n",
       "std      3380.078344  1.411520e+11     862.275409\n",
       "min     -2026.000000  0.000000e+00       0.000000\n",
       "25%         0.000000  0.000000e+00     746.000000\n",
       "50%         0.000000  1.546188e+11    1493.000000\n",
       "75%       400.000000  2.834678e+11    2240.000000\n",
       "max     86648.000000  4.209068e+11    2986.000000"
      ]
     },
     "execution_count": 185,
     "metadata": {},
     "output_type": "execute_result"
    }
   ],
   "source": [
    "new_train.describe()"
   ]
  },
  {
   "cell_type": "code",
   "execution_count": 228,
   "metadata": {},
   "outputs": [
    {
     "name": "stdout",
     "output_type": "stream",
     "text": [
      "eval\n",
      "           category      true_val          pred  relative_err\n",
      "count  3056.000000   3056.000000   3056.000000   3056.000000\n",
      "mean    583.202225   3225.697094   3318.705666     52.534125\n",
      "std     394.012841   6570.096810   6543.166809    240.193088\n",
      "min       0.000000    102.000000    215.205448      0.000269\n",
      "25%     272.750000    400.000000    508.969638     10.902196\n",
      "50%     514.500000    900.000000    973.714764     27.333245\n",
      "75%     858.000000   2620.000000   2769.213780     56.230571\n",
      "max    1525.000000  55872.000000  53261.819295  12433.778762\n"
     ]
    },
    {
     "data": {
      "text/plain": [
       "317"
      ]
     },
     "execution_count": 228,
     "metadata": {},
     "output_type": "execute_result"
    }
   ],
   "source": [
    "#old\n",
    "eval_min_100 = pd.read_csv('data/evaluations/eval_min_100.csv')\n",
    "print('eval\\n', eval.describe())\n",
    "mean_err_by_cat_min_100 = eval.groupby('category').mean()['relative_err']\n",
    "len(eval[eval['relative_err']>100])\n",
    "# sns.boxplot(x=eval['category'].unique(),y=mean_err_by_cat['relative_err'])"
   ]
  },
  {
   "cell_type": "code",
   "execution_count": 222,
   "metadata": {},
   "outputs": [
    {
     "data": {
      "text/html": [
       "<div>\n",
       "<style scoped>\n",
       "    .dataframe tbody tr th:only-of-type {\n",
       "        vertical-align: middle;\n",
       "    }\n",
       "\n",
       "    .dataframe tbody tr th {\n",
       "        vertical-align: top;\n",
       "    }\n",
       "\n",
       "    .dataframe thead th {\n",
       "        text-align: right;\n",
       "    }\n",
       "</style>\n",
       "<table border=\"1\" class=\"dataframe\">\n",
       "  <thead>\n",
       "    <tr style=\"text-align: right;\">\n",
       "      <th></th>\n",
       "      <th>category</th>\n",
       "      <th>true_val</th>\n",
       "      <th>pred</th>\n",
       "      <th>relative_err</th>\n",
       "    </tr>\n",
       "  </thead>\n",
       "  <tbody>\n",
       "    <tr>\n",
       "      <th>count</th>\n",
       "      <td>2739.000000</td>\n",
       "      <td>2739.000000</td>\n",
       "      <td>2739.000000</td>\n",
       "      <td>2739.000000</td>\n",
       "    </tr>\n",
       "    <tr>\n",
       "      <th>mean</th>\n",
       "      <td>587.631252</td>\n",
       "      <td>3541.085915</td>\n",
       "      <td>3540.586468</td>\n",
       "      <td>29.631159</td>\n",
       "    </tr>\n",
       "    <tr>\n",
       "      <th>std</th>\n",
       "      <td>397.180103</td>\n",
       "      <td>6860.116475</td>\n",
       "      <td>6809.570922</td>\n",
       "      <td>24.351493</td>\n",
       "    </tr>\n",
       "    <tr>\n",
       "      <th>min</th>\n",
       "      <td>0.000000</td>\n",
       "      <td>126.000000</td>\n",
       "      <td>235.113401</td>\n",
       "      <td>0.000269</td>\n",
       "    </tr>\n",
       "    <tr>\n",
       "      <th>25%</th>\n",
       "      <td>274.000000</td>\n",
       "      <td>420.000000</td>\n",
       "      <td>527.667478</td>\n",
       "      <td>9.654299</td>\n",
       "    </tr>\n",
       "    <tr>\n",
       "      <th>50%</th>\n",
       "      <td>517.000000</td>\n",
       "      <td>1006.000000</td>\n",
       "      <td>1073.456745</td>\n",
       "      <td>23.685124</td>\n",
       "    </tr>\n",
       "    <tr>\n",
       "      <th>75%</th>\n",
       "      <td>862.000000</td>\n",
       "      <td>3000.000000</td>\n",
       "      <td>3040.754423</td>\n",
       "      <td>43.390551</td>\n",
       "    </tr>\n",
       "    <tr>\n",
       "      <th>max</th>\n",
       "      <td>1525.000000</td>\n",
       "      <td>55872.000000</td>\n",
       "      <td>53261.819295</td>\n",
       "      <td>99.915801</td>\n",
       "    </tr>\n",
       "  </tbody>\n",
       "</table>\n",
       "</div>"
      ],
      "text/plain": [
       "          category      true_val          pred  relative_err\n",
       "count  2739.000000   2739.000000   2739.000000   2739.000000\n",
       "mean    587.631252   3541.085915   3540.586468     29.631159\n",
       "std     397.180103   6860.116475   6809.570922     24.351493\n",
       "min       0.000000    126.000000    235.113401      0.000269\n",
       "25%     274.000000    420.000000    527.667478      9.654299\n",
       "50%     517.000000   1006.000000   1073.456745     23.685124\n",
       "75%     862.000000   3000.000000   3040.754423     43.390551\n",
       "max    1525.000000  55872.000000  53261.819295     99.915801"
      ]
     },
     "execution_count": 222,
     "metadata": {},
     "output_type": "execute_result"
    }
   ],
   "source": [
    "eval_less_100 = eval[eval['relative_err']<100]\n",
    "eval_less_100.describe()"
   ]
  },
  {
   "cell_type": "code",
   "execution_count": 223,
   "metadata": {},
   "outputs": [
    {
     "data": {
      "text/plain": [
       "<matplotlib.legend.Legend at 0x26156fe5f28>"
      ]
     },
     "execution_count": 223,
     "metadata": {},
     "output_type": "execute_result"
    },
    {
     "data": {
      "image/png": "[encoded data removed]",
      "text/plain": [
       "<Figure size 432x288 with 1 Axes>"
      ]
     },
     "metadata": {
      "needs_background": "light"
     },
     "output_type": "display_data"
    }
   ],
   "source": [
    "plt.scatter(eval_less_100['true_val'], eval_less_100['pred'])\n",
    "plt.plot(eval_less_100['true_val'], eval_less_100['true_val'], c='red')\n",
    "plt.xlabel('True Val')\n",
    "plt.legend(['True','Pred'])"
   ]
  },
  {
   "cell_type": "code",
   "execution_count": 224,
   "metadata": {},
   "outputs": [
    {
     "data": {
      "text/plain": [
       "Text(0, 0.5, 'Error [%]')"
      ]
     },
     "execution_count": 224,
     "metadata": {},
     "output_type": "execute_result"
    },
    {
     "data": {
      "image/png": "[encoded data removed]",
      "text/plain": [
       "<Figure size 432x288 with 1 Axes>"
      ]
     },
     "metadata": {
      "needs_background": "light"
     },
     "output_type": "display_data"
    }
   ],
   "source": [
    "## OLD\n",
    "plt.scatter(eval_less_100['true_val'], eval_less_100['relative_err'])\n",
    "plt.xlabel('True Val')\n",
    "plt.ylabel('Error [%]')\n",
    "# plt.xlim([50,500])\n",
    "# plt.ylim([0,500])\n"
   ]
  },
  {
   "cell_type": "code",
   "execution_count": 232,
   "metadata": {},
   "outputs": [
    {
     "name": "stdout",
     "output_type": "stream",
     "text": [
      "eval\n",
      "           category      true_val          pred  relative_err\n",
      "count  4449.000000   4449.000000   4449.000000   4449.000000\n",
      "mean    604.942009   2287.769908   2375.227419    271.565337\n",
      "std     404.241191   5644.150586   5621.062402   2031.480651\n",
      "min       0.000000      2.000000     97.263689      0.038881\n",
      "25%     278.000000    122.000000    246.059078     15.250507\n",
      "50%     523.000000    420.000000    536.184934     40.419037\n",
      "75%     913.000000   1572.000000   1653.302118    117.679272\n",
      "max    1525.000000  55872.000000  53283.148669  55203.726074\n"
     ]
    }
   ],
   "source": [
    "## OLD\n",
    "eval_non_zero = pd.read_csv('data/evaluations/eval_non_zero.csv')\n",
    "print('eval\\n', eval_non_zero.describe())\n",
    "mean_err_by_cat = eval_non_zero.groupby('category').mean()['relative_err']\n",
    "# len(eval_non_zero[eval_non_zero['relative_err']>100])"
   ]
  },
  {
   "cell_type": "code",
   "execution_count": 233,
   "metadata": {},
   "outputs": [
    {
     "name": "stdout",
     "output_type": "stream",
     "text": [
      "eval\n",
      "           category      true_val          pred  relative_err\n",
      "count  2258.000000   2258.000000   2258.000000   2258.000000\n",
      "mean    551.445527   4242.826537   4309.612589     32.641543\n",
      "std     381.845630   7377.084447   7341.501705     59.244280\n",
      "min       2.000000    254.000000    376.605054      0.005526\n",
      "25%     260.000000    620.000000    710.457740      8.032030\n",
      "50%     480.500000   1424.000000   1538.103928     20.390879\n",
      "75%     792.000000   3957.000000   4075.250711     38.672461\n",
      "max    1525.000000  55872.000000  53101.075364   1901.036282\n"
     ]
    }
   ],
   "source": [
    "## OLD\n",
    "eval_min_250 = pd.read_csv('data/evaluations/eval_min_250.csv')\n",
    "print('eval\\n', eval_min_250.describe())\n",
    "mean_err_by_cat = eval_min_250.groupby('category').mean()['relative_err']\n",
    "# len(eval_non_zero[eval_non_zero['relative_err']>100])"
   ]
  },
  {
   "cell_type": "code",
   "execution_count": 237,
   "metadata": {},
   "outputs": [
    {
     "data": {
      "text/html": [
       "<div>\n",
       "<style scoped>\n",
       "    .dataframe tbody tr th:only-of-type {\n",
       "        vertical-align: middle;\n",
       "    }\n",
       "\n",
       "    .dataframe tbody tr th {\n",
       "        vertical-align: top;\n",
       "    }\n",
       "\n",
       "    .dataframe thead th {\n",
       "        text-align: right;\n",
       "    }\n",
       "</style>\n",
       "<table border=\"1\" class=\"dataframe\">\n",
       "  <thead>\n",
       "    <tr style=\"text-align: right;\">\n",
       "      <th></th>\n",
       "      <th>category</th>\n",
       "      <th>true_val</th>\n",
       "      <th>pred</th>\n",
       "      <th>relative_err</th>\n",
       "    </tr>\n",
       "  </thead>\n",
       "  <tbody>\n",
       "    <tr>\n",
       "      <th>count</th>\n",
       "      <td>4845.000000</td>\n",
       "      <td>4845.000000</td>\n",
       "      <td>4845.000000</td>\n",
       "      <td>4845.000000</td>\n",
       "    </tr>\n",
       "    <tr>\n",
       "      <th>mean</th>\n",
       "      <td>580.833849</td>\n",
       "      <td>2407.675608</td>\n",
       "      <td>2515.632994</td>\n",
       "      <td>301.964558</td>\n",
       "    </tr>\n",
       "    <tr>\n",
       "      <th>std</th>\n",
       "      <td>398.855257</td>\n",
       "      <td>5883.382582</td>\n",
       "      <td>5788.996182</td>\n",
       "      <td>2046.903370</td>\n",
       "    </tr>\n",
       "    <tr>\n",
       "      <th>min</th>\n",
       "      <td>0.000000</td>\n",
       "      <td>2.000000</td>\n",
       "      <td>80.789830</td>\n",
       "      <td>0.001071</td>\n",
       "    </tr>\n",
       "    <tr>\n",
       "      <th>25%</th>\n",
       "      <td>264.000000</td>\n",
       "      <td>128.000000</td>\n",
       "      <td>284.472405</td>\n",
       "      <td>15.946902</td>\n",
       "    </tr>\n",
       "    <tr>\n",
       "      <th>50%</th>\n",
       "      <td>498.000000</td>\n",
       "      <td>438.000000</td>\n",
       "      <td>587.978649</td>\n",
       "      <td>44.166107</td>\n",
       "    </tr>\n",
       "    <tr>\n",
       "      <th>75%</th>\n",
       "      <td>876.000000</td>\n",
       "      <td>1650.000000</td>\n",
       "      <td>1771.393493</td>\n",
       "      <td>141.540634</td>\n",
       "    </tr>\n",
       "    <tr>\n",
       "      <th>max</th>\n",
       "      <td>1525.000000</td>\n",
       "      <td>55872.000000</td>\n",
       "      <td>53279.336634</td>\n",
       "      <td>55262.382180</td>\n",
       "    </tr>\n",
       "  </tbody>\n",
       "</table>\n",
       "</div>"
      ],
      "text/plain": [
       "          category      true_val          pred  relative_err\n",
       "count  4845.000000   4845.000000   4845.000000   4845.000000\n",
       "mean    580.833849   2407.675608   2515.632994    301.964558\n",
       "std     398.855257   5883.382582   5788.996182   2046.903370\n",
       "min       0.000000      2.000000     80.789830      0.001071\n",
       "25%     264.000000    128.000000    284.472405     15.946902\n",
       "50%     498.000000    438.000000    587.978649     44.166107\n",
       "75%     876.000000   1650.000000   1771.393493    141.540634\n",
       "max    1525.000000  55872.000000  53279.336634  55262.382180"
      ]
     },
     "execution_count": 237,
     "metadata": {},
     "output_type": "execute_result"
    }
   ],
   "source": [
    "eval_non_zero = pd.read_csv('data/evaluations/eval_non_zero.csv')\n",
    "eval_non_zero.describe()"
   ]
  },
  {
   "cell_type": "code",
   "execution_count": 239,
   "metadata": {},
   "outputs": [
    {
     "data": {
      "text/html": [
       "<div>\n",
       "<style scoped>\n",
       "    .dataframe tbody tr th:only-of-type {\n",
       "        vertical-align: middle;\n",
       "    }\n",
       "\n",
       "    .dataframe tbody tr th {\n",
       "        vertical-align: top;\n",
       "    }\n",
       "\n",
       "    .dataframe thead th {\n",
       "        text-align: right;\n",
       "    }\n",
       "</style>\n",
       "<table border=\"1\" class=\"dataframe\">\n",
       "  <thead>\n",
       "    <tr style=\"text-align: right;\">\n",
       "      <th></th>\n",
       "      <th>category</th>\n",
       "      <th>true_val</th>\n",
       "      <th>pred</th>\n",
       "      <th>relative_err</th>\n",
       "    </tr>\n",
       "  </thead>\n",
       "  <tbody>\n",
       "    <tr>\n",
       "      <th>count</th>\n",
       "      <td>4845.000000</td>\n",
       "      <td>4845.000000</td>\n",
       "      <td>4845.000000</td>\n",
       "      <td>4845.000000</td>\n",
       "    </tr>\n",
       "    <tr>\n",
       "      <th>mean</th>\n",
       "      <td>580.833849</td>\n",
       "      <td>2407.675608</td>\n",
       "      <td>2454.264523</td>\n",
       "      <td>233.337223</td>\n",
       "    </tr>\n",
       "    <tr>\n",
       "      <th>std</th>\n",
       "      <td>398.855257</td>\n",
       "      <td>5883.382582</td>\n",
       "      <td>5792.373980</td>\n",
       "      <td>1950.641933</td>\n",
       "    </tr>\n",
       "    <tr>\n",
       "      <th>min</th>\n",
       "      <td>0.000000</td>\n",
       "      <td>2.000000</td>\n",
       "      <td>92.522166</td>\n",
       "      <td>0.004580</td>\n",
       "    </tr>\n",
       "    <tr>\n",
       "      <th>25%</th>\n",
       "      <td>264.000000</td>\n",
       "      <td>128.000000</td>\n",
       "      <td>211.258743</td>\n",
       "      <td>12.418837</td>\n",
       "    </tr>\n",
       "    <tr>\n",
       "      <th>50%</th>\n",
       "      <td>498.000000</td>\n",
       "      <td>438.000000</td>\n",
       "      <td>519.400191</td>\n",
       "      <td>34.935939</td>\n",
       "    </tr>\n",
       "    <tr>\n",
       "      <th>75%</th>\n",
       "      <td>876.000000</td>\n",
       "      <td>1650.000000</td>\n",
       "      <td>1709.161514</td>\n",
       "      <td>87.559879</td>\n",
       "    </tr>\n",
       "    <tr>\n",
       "      <th>max</th>\n",
       "      <td>1525.000000</td>\n",
       "      <td>55872.000000</td>\n",
       "      <td>53232.297774</td>\n",
       "      <td>55059.366904</td>\n",
       "    </tr>\n",
       "  </tbody>\n",
       "</table>\n",
       "</div>"
      ],
      "text/plain": [
       "          category      true_val          pred  relative_err\n",
       "count  4845.000000   4845.000000   4845.000000   4845.000000\n",
       "mean    580.833849   2407.675608   2454.264523    233.337223\n",
       "std     398.855257   5883.382582   5792.373980   1950.641933\n",
       "min       0.000000      2.000000     92.522166      0.004580\n",
       "25%     264.000000    128.000000    211.258743     12.418837\n",
       "50%     498.000000    438.000000    519.400191     34.935939\n",
       "75%     876.000000   1650.000000   1709.161514     87.559879\n",
       "max    1525.000000  55872.000000  53232.297774  55059.366904"
      ]
     },
     "execution_count": 239,
     "metadata": {},
     "output_type": "execute_result"
    }
   ],
   "source": [
    "eval_scaled_non_zero = pd.read_csv('data/evaluations/eval_scaled_non_zero.csv')\n",
    "eval_scaled_non_zero.describe()"
   ]
  },
  {
   "cell_type": "code",
   "execution_count": 247,
   "metadata": {},
   "outputs": [
    {
     "name": "stdout",
     "output_type": "stream",
     "text": [
      "Describe \n",
      "--------\n",
      "           category      true_val          pred  relative_err\n",
      "count  2481.000000   2481.000000   2481.000000   2481.000000\n",
      "mean    529.875050   4436.046078   4528.819974     35.828019\n",
      "std     374.290872   7654.785926   7517.239695     61.075450\n",
      "min       2.000000    254.000000    330.627954      0.004575\n",
      "25%     242.000000    650.000000    791.114328      8.382937\n",
      "50%     451.000000   1500.000000   1645.416139     22.853712\n",
      "75%     740.000000   4170.000000   4353.284757     44.888787\n",
      "max    1525.000000  55872.000000  53121.164116   1934.148348\n",
      "\n",
      "\n",
      "Mean By category \n",
      "----------\n",
      "               true_val          pred  relative_err\n",
      "category                                          \n",
      "2.0         965.000000   1128.116235     27.047706\n",
      "15.0       3912.250000   4153.642971     16.669091\n",
      "18.0       2966.750000   3379.980278     16.811924\n",
      "21.0       1736.750000   2088.032183     38.870484\n",
      "22.0        514.500000    688.498954     33.867079\n",
      "24.0        500.000000    681.137605     36.227521\n",
      "27.0        846.000000   1014.243840     21.824513\n",
      "31.0       2462.250000   2728.871274     19.287609\n",
      "33.0       5571.250000   6487.193774     34.345295\n",
      "36.0        831.000000    895.220838     25.783594\n",
      "37.0       1295.000000   1537.338433     37.200448\n",
      "38.0       4650.000000   4814.754926     18.017756\n",
      "40.0      36237.000000  34811.481170     15.686892\n",
      "41.0        475.000000    562.887635     40.741011\n",
      "42.0       5850.000000   6087.965388     15.840455\n",
      "49.0        475.000000    562.496165     40.681592\n",
      "58.0       1334.666667   1806.383020     45.616198\n",
      "59.0       9592.000000   8693.694067      9.366256\n",
      "62.0        800.000000    709.360583     46.173172\n",
      "64.0        690.000000    956.093072     42.348818\n",
      "65.0       1557.290000   1524.399509     24.629233\n",
      "68.0        874.000000    960.283231      9.872223\n",
      "71.0        768.000000    652.207074     44.362682\n",
      "72.0       1879.500000   2184.059048     33.522693\n",
      "74.0       6481.200000   7258.915406     22.220031\n",
      "76.0       2056.666667   2057.256616      4.458106\n",
      "77.0        475.000000    561.126022     40.473624\n",
      "78.0       2944.250000   3051.754556     19.246143\n",
      "80.0        514.500000    685.660800     33.315008\n",
      "81.0       2640.000000   2158.641838     15.616438\n",
      "...                ...           ...           ...\n",
      "1415.0     1000.000000    616.675088     40.511974\n",
      "1417.0     1450.000000    806.478112     38.706950\n",
      "1419.0      600.000000    519.201484     31.315840\n",
      "1430.0      600.000000    518.663214     31.282198\n",
      "1434.0      850.000000    843.936741     12.343904\n",
      "1436.0      600.000000    518.369612     31.263847\n",
      "1439.0      450.000000    428.225035     35.087996\n",
      "1440.0      600.000000    518.173877     31.251614\n",
      "1455.0      850.000000    842.909134     12.327992\n",
      "1456.0     7210.000000   5644.334239     19.098364\n",
      "1457.0      744.000000    684.870185     24.844291\n",
      "1460.0      350.000000    421.468950     22.676387\n",
      "1475.0      450.000000    426.463422     34.941195\n",
      "1476.0     1285.000000    679.146895     41.913738\n",
      "1478.0      502.000000    518.228922     20.159220\n",
      "1479.0     3810.000000   3356.420606     12.029798\n",
      "1481.0      600.000000    516.167596     31.126221\n",
      "1482.0     1998.000000   1302.938422     27.258625\n",
      "1485.0      350.000000    420.245607     22.319579\n",
      "1487.0      700.000000    544.516384     42.982293\n",
      "1491.0      700.000000    515.678259     37.617233\n",
      "1494.0      850.000000    841.000720     12.298442\n",
      "1495.0     3810.000000   3355.637667     12.050380\n",
      "1496.0     1050.000000    841.604547     20.718657\n",
      "1503.0     2575.000000   2492.732557      8.575874\n",
      "1509.0     1285.000000    677.532083     41.812458\n",
      "1511.0      700.000000    543.341976     42.894212\n",
      "1513.0     1450.000000    801.780478     38.478169\n",
      "1515.0      560.000000    611.264514     10.925001\n",
      "1525.0      600.000000    514.014513     30.991654\n",
      "\n",
      "[449 rows x 3 columns]\n"
     ]
    }
   ],
   "source": [
    "eval_min_250 = pd.read_csv('data/evaluations/eval_min_250.csv')\n",
    "print('Describe \\n--------\\n',eval_min_250.describe())\n",
    "eval_min_250_mean_by_category = eval_min_250.groupby('category').mean()\n",
    "print('\\n\\nMean By category \\n----------\\n',eval_min_250_mean_by_category[eval_min_250_mean_by_category['relative_err']<50])"
   ]
  },
  {
   "cell_type": "code",
   "execution_count": 268,
   "metadata": {},
   "outputs": [
    {
     "data": {
      "text/html": [
       "<div>\n",
       "<style scoped>\n",
       "    .dataframe tbody tr th:only-of-type {\n",
       "        vertical-align: middle;\n",
       "    }\n",
       "\n",
       "    .dataframe tbody tr th {\n",
       "        vertical-align: top;\n",
       "    }\n",
       "\n",
       "    .dataframe thead th {\n",
       "        text-align: right;\n",
       "    }\n",
       "</style>\n",
       "<table border=\"1\" class=\"dataframe\">\n",
       "  <thead>\n",
       "    <tr style=\"text-align: right;\">\n",
       "      <th></th>\n",
       "      <th>category</th>\n",
       "      <th>Year</th>\n",
       "      <th>Month</th>\n",
       "      <th>true_val</th>\n",
       "      <th>pred</th>\n",
       "      <th>relative_err</th>\n",
       "    </tr>\n",
       "  </thead>\n",
       "  <tbody>\n",
       "    <tr>\n",
       "      <th>count</th>\n",
       "      <td>3332.000000</td>\n",
       "      <td>3332.000000</td>\n",
       "      <td>3332.000000</td>\n",
       "      <td>3332.000000</td>\n",
       "      <td>3332.000000</td>\n",
       "      <td>3332.000000</td>\n",
       "    </tr>\n",
       "    <tr>\n",
       "      <th>mean</th>\n",
       "      <td>560.413265</td>\n",
       "      <td>2019.180972</td>\n",
       "      <td>8.057623</td>\n",
       "      <td>3393.447875</td>\n",
       "      <td>3509.861968</td>\n",
       "      <td>56.835179</td>\n",
       "    </tr>\n",
       "    <tr>\n",
       "      <th>std</th>\n",
       "      <td>388.103146</td>\n",
       "      <td>0.385053</td>\n",
       "      <td>3.415970</td>\n",
       "      <td>6843.019048</td>\n",
       "      <td>6730.601754</td>\n",
       "      <td>233.083292</td>\n",
       "    </tr>\n",
       "    <tr>\n",
       "      <th>min</th>\n",
       "      <td>0.000000</td>\n",
       "      <td>2019.000000</td>\n",
       "      <td>1.000000</td>\n",
       "      <td>102.000000</td>\n",
       "      <td>209.010372</td>\n",
       "      <td>0.006566</td>\n",
       "    </tr>\n",
       "    <tr>\n",
       "      <th>25%</th>\n",
       "      <td>255.000000</td>\n",
       "      <td>2019.000000</td>\n",
       "      <td>7.000000</td>\n",
       "      <td>400.000000</td>\n",
       "      <td>558.140676</td>\n",
       "      <td>11.434920</td>\n",
       "    </tr>\n",
       "    <tr>\n",
       "      <th>50%</th>\n",
       "      <td>486.000000</td>\n",
       "      <td>2019.000000</td>\n",
       "      <td>9.000000</td>\n",
       "      <td>960.000000</td>\n",
       "      <td>1047.628023</td>\n",
       "      <td>30.159834</td>\n",
       "    </tr>\n",
       "    <tr>\n",
       "      <th>75%</th>\n",
       "      <td>821.000000</td>\n",
       "      <td>2019.000000</td>\n",
       "      <td>10.000000</td>\n",
       "      <td>2851.000000</td>\n",
       "      <td>2986.476382</td>\n",
       "      <td>60.979437</td>\n",
       "    </tr>\n",
       "    <tr>\n",
       "      <th>max</th>\n",
       "      <td>1525.000000</td>\n",
       "      <td>2020.000000</td>\n",
       "      <td>12.000000</td>\n",
       "      <td>55872.000000</td>\n",
       "      <td>53281.091473</td>\n",
       "      <td>12468.324733</td>\n",
       "    </tr>\n",
       "  </tbody>\n",
       "</table>\n",
       "</div>"
      ],
      "text/plain": [
       "          category         Year        Month      true_val          pred  \\\n",
       "count  3332.000000  3332.000000  3332.000000   3332.000000   3332.000000   \n",
       "mean    560.413265  2019.180972     8.057623   3393.447875   3509.861968   \n",
       "std     388.103146     0.385053     3.415970   6843.019048   6730.601754   \n",
       "min       0.000000  2019.000000     1.000000    102.000000    209.010372   \n",
       "25%     255.000000  2019.000000     7.000000    400.000000    558.140676   \n",
       "50%     486.000000  2019.000000     9.000000    960.000000   1047.628023   \n",
       "75%     821.000000  2019.000000    10.000000   2851.000000   2986.476382   \n",
       "max    1525.000000  2020.000000    12.000000  55872.000000  53281.091473   \n",
       "\n",
       "       relative_err  \n",
       "count   3332.000000  \n",
       "mean      56.835179  \n",
       "std      233.083292  \n",
       "min        0.006566  \n",
       "25%       11.434920  \n",
       "50%       30.159834  \n",
       "75%       60.979437  \n",
       "max    12468.324733  "
      ]
     },
     "execution_count": 268,
     "metadata": {},
     "output_type": "execute_result"
    }
   ],
   "source": [
    "eval_scaled_min_100 = pd.read_csv('data/evaluations/eval_scaled_from_100.csv')\n",
    "eval_scaled_min_100.describe()"
   ]
  },
  {
   "cell_type": "code",
   "execution_count": 254,
   "metadata": {},
   "outputs": [
    {
     "name": "stdout",
     "output_type": "stream",
     "text": [
      "\n",
      "\n",
      "Mean By category \n",
      "----------\n",
      "       category    Year  Month  true_val         pred  relative_err\n",
      "1732       0.0  2020.0    1.0     200.0   309.230366     54.615183\n",
      "1728       0.0  2019.0    9.0     252.0   257.912741      2.346326\n",
      "1729       0.0  2019.0   10.0     352.0   349.467550      0.719446\n",
      "1733       0.0  2020.0    2.0     200.0   304.188223     52.094112\n",
      "1730       0.0  2019.0   11.0     352.0   444.837475     26.374283\n",
      "1731       0.0  2019.0   12.0     200.0   448.652592    124.326296\n",
      "1981       2.0  2019.0    8.0    1000.0  1072.365804      7.236580\n",
      "1982       2.0  2019.0    9.0    1400.0  1070.374133     23.544705\n",
      "1983       2.0  2019.0   10.0    1100.0  1438.585038     30.780458\n",
      "1985       2.0  2019.0   12.0     840.0   707.472099     15.777131\n",
      "1986       2.0  2020.0    1.0     840.0   910.318892      8.371297\n",
      "1987       2.0  2020.0    2.0     940.0   915.790582      2.575470\n",
      "1984       2.0  2019.0   11.0     600.0  1175.695656     95.949276\n",
      "1980       2.0  2019.0    7.0    1000.0  1083.344180      8.334418\n",
      "2094      10.0  2020.0    2.0     530.0   598.165758     12.861464\n",
      "2093      10.0  2020.0    1.0     510.0   568.974654     11.563658\n",
      "2092      10.0  2019.0   12.0     490.0   259.890168     46.961190\n",
      "2091      10.0  2019.0   11.0     150.0   357.732725    138.488483\n",
      "2090      10.0  2019.0   10.0     250.0   477.550547     91.020219\n",
      "2087      10.0  2019.0    7.0     776.0  1249.054324     60.960609\n",
      "2089      10.0  2019.0    9.0     366.0   839.271041    129.309027\n",
      "2088      10.0  2019.0    8.0     756.0   871.607364     15.291979\n",
      "814       11.0  2019.0   12.0     200.0   303.431388     51.715694\n",
      "813       11.0  2019.0   11.0     200.0   303.431388     51.715694\n",
      "812       11.0  2019.0   10.0     200.0   303.431388     51.715694\n",
      "2083      12.0  2020.0    2.0     170.0   274.671035     61.571197\n",
      "1935      15.0  2020.0    2.0    3754.0  4095.389898      9.094030\n",
      "1933      15.0  2019.0   12.0    3492.0  3272.044000      6.298855\n",
      "1934      15.0  2020.0    1.0    4184.0  3452.066072     17.493641\n",
      "1929      15.0  2019.0    8.0    3510.0  5246.417766     49.470592\n",
      "...        ...     ...    ...       ...          ...           ...\n",
      "801     1491.0  2019.0    8.0     400.0   495.167075     23.791769\n",
      "802     1491.0  2019.0    9.0    1000.0   495.167075     50.483293\n",
      "1030    1494.0  2019.0    8.0     740.0   821.117741     10.961857\n",
      "1031    1494.0  2019.0    9.0     960.0   821.117741     14.466902\n",
      "1885    1495.0  2019.0    8.0    3660.0  3102.171708     15.241210\n",
      "1886    1495.0  2019.0    9.0    3960.0  3596.403999      9.181717\n",
      "2242    1496.0  2019.0    8.0    1000.0   594.850035     40.514997\n",
      "2243    1496.0  2019.0    9.0    1100.0  1051.796467      4.382139\n",
      "354     1497.0  2019.0    8.0     170.0   272.763477     60.449104\n",
      "355     1497.0  2019.0    9.0     136.0   274.422076    101.780939\n",
      "716     1501.0  2019.0    9.0     400.0   303.431388     24.142153\n",
      "715     1501.0  2019.0    8.0     200.0   303.431388     51.715694\n",
      "569     1503.0  2019.0    9.0    2750.0  2417.599995     12.087273\n",
      "568     1503.0  2019.0    8.0    2400.0  2531.380466      5.474186\n",
      "2376    1504.0  2019.0    8.0     300.0   589.541165     96.513722\n",
      "2377    1504.0  2019.0    9.0    1000.0   406.929465     59.307053\n",
      "2402    1509.0  2019.0    8.0     570.0   658.142408     15.463580\n",
      "2403    1509.0  2019.0    9.0    2000.0   658.142408     67.092880\n",
      "339     1511.0  2019.0    8.0     400.0   533.318244     33.329561\n",
      "340     1511.0  2019.0    9.0    1000.0   500.146252     49.985375\n",
      "2009    1513.0  2019.0    8.0     700.0   782.770604     11.824372\n",
      "2010    1513.0  2019.0    9.0    2200.0   782.770604     64.419518\n",
      "777     1515.0  2019.0    8.0     500.0   592.030753     18.406151\n",
      "778     1515.0  2019.0    9.0     620.0   591.034918      4.671787\n",
      "3201    1522.0  2019.0    9.0     318.0   396.883957     24.806276\n",
      "3200    1522.0  2019.0    8.0     298.0   393.566758     32.069382\n",
      "1205    1524.0  2019.0    9.0     276.0   281.418941      1.963385\n",
      "1204    1524.0  2019.0    8.0     176.0   288.053340     63.666670\n",
      "1797    1525.0  2019.0    9.0     800.0   495.167075     38.104116\n",
      "1796    1525.0  2019.0    8.0     400.0   495.167075     23.791769\n",
      "\n",
      "[3332 rows x 6 columns]\n"
     ]
    }
   ],
   "source": [
    "print('\\n\\nMean By category \\n----------\\n',eval_scaled_min_100.sort_values('category'))"
   ]
  },
  {
   "cell_type": "code",
   "execution_count": 271,
   "metadata": {},
   "outputs": [
    {
     "data": {
      "text/html": [
       "<div>\n",
       "<style scoped>\n",
       "    .dataframe tbody tr th:only-of-type {\n",
       "        vertical-align: middle;\n",
       "    }\n",
       "\n",
       "    .dataframe tbody tr th {\n",
       "        vertical-align: top;\n",
       "    }\n",
       "\n",
       "    .dataframe thead th {\n",
       "        text-align: right;\n",
       "    }\n",
       "</style>\n",
       "<table border=\"1\" class=\"dataframe\">\n",
       "  <thead>\n",
       "    <tr style=\"text-align: right;\">\n",
       "      <th></th>\n",
       "      <th>category</th>\n",
       "      <th>Year</th>\n",
       "      <th>Month</th>\n",
       "      <th>true_val</th>\n",
       "      <th>pred</th>\n",
       "      <th>relative_err</th>\n",
       "    </tr>\n",
       "  </thead>\n",
       "  <tbody>\n",
       "    <tr>\n",
       "      <th>count</th>\n",
       "      <td>3100.000000</td>\n",
       "      <td>3100.000000</td>\n",
       "      <td>3100.000000</td>\n",
       "      <td>3100.000000</td>\n",
       "      <td>3100.000000</td>\n",
       "      <td>3100.000000</td>\n",
       "    </tr>\n",
       "    <tr>\n",
       "      <th>mean</th>\n",
       "      <td>560.768387</td>\n",
       "      <td>2019.188065</td>\n",
       "      <td>7.998387</td>\n",
       "      <td>3626.483329</td>\n",
       "      <td>3690.784283</td>\n",
       "      <td>36.068854</td>\n",
       "    </tr>\n",
       "    <tr>\n",
       "      <th>std</th>\n",
       "      <td>388.682693</td>\n",
       "      <td>0.390827</td>\n",
       "      <td>3.458741</td>\n",
       "      <td>7038.876363</td>\n",
       "      <td>6931.496847</td>\n",
       "      <td>32.619864</td>\n",
       "    </tr>\n",
       "    <tr>\n",
       "      <th>min</th>\n",
       "      <td>0.000000</td>\n",
       "      <td>2019.000000</td>\n",
       "      <td>1.000000</td>\n",
       "      <td>102.000000</td>\n",
       "      <td>209.010372</td>\n",
       "      <td>0.006566</td>\n",
       "    </tr>\n",
       "    <tr>\n",
       "      <th>25%</th>\n",
       "      <td>255.000000</td>\n",
       "      <td>2019.000000</td>\n",
       "      <td>7.000000</td>\n",
       "      <td>420.000000</td>\n",
       "      <td>570.967296</td>\n",
       "      <td>10.278098</td>\n",
       "    </tr>\n",
       "    <tr>\n",
       "      <th>50%</th>\n",
       "      <td>488.000000</td>\n",
       "      <td>2019.000000</td>\n",
       "      <td>9.000000</td>\n",
       "      <td>1002.000000</td>\n",
       "      <td>1126.409552</td>\n",
       "      <td>26.869804</td>\n",
       "    </tr>\n",
       "    <tr>\n",
       "      <th>75%</th>\n",
       "      <td>813.000000</td>\n",
       "      <td>2019.000000</td>\n",
       "      <td>10.000000</td>\n",
       "      <td>3028.500000</td>\n",
       "      <td>3187.000766</td>\n",
       "      <td>51.974334</td>\n",
       "    </tr>\n",
       "    <tr>\n",
       "      <th>max</th>\n",
       "      <td>1525.000000</td>\n",
       "      <td>2020.000000</td>\n",
       "      <td>12.000000</td>\n",
       "      <td>55872.000000</td>\n",
       "      <td>53281.091473</td>\n",
       "      <td>149.958230</td>\n",
       "    </tr>\n",
       "  </tbody>\n",
       "</table>\n",
       "</div>"
      ],
      "text/plain": [
       "          category         Year        Month      true_val          pred  \\\n",
       "count  3100.000000  3100.000000  3100.000000   3100.000000   3100.000000   \n",
       "mean    560.768387  2019.188065     7.998387   3626.483329   3690.784283   \n",
       "std     388.682693     0.390827     3.458741   7038.876363   6931.496847   \n",
       "min       0.000000  2019.000000     1.000000    102.000000    209.010372   \n",
       "25%     255.000000  2019.000000     7.000000    420.000000    570.967296   \n",
       "50%     488.000000  2019.000000     9.000000   1002.000000   1126.409552   \n",
       "75%     813.000000  2019.000000    10.000000   3028.500000   3187.000766   \n",
       "max    1525.000000  2020.000000    12.000000  55872.000000  53281.091473   \n",
       "\n",
       "       relative_err  \n",
       "count   3100.000000  \n",
       "mean      36.068854  \n",
       "std       32.619864  \n",
       "min        0.006566  \n",
       "25%       10.278098  \n",
       "50%       26.869804  \n",
       "75%       51.974334  \n",
       "max      149.958230  "
      ]
     },
     "execution_count": 271,
     "metadata": {},
     "output_type": "execute_result"
    }
   ],
   "source": [
    "eval_scaled_min_100_cuttoff_90 = eval_scaled_min_100[eval_scaled_min_100['relative_err']<150]\n",
    "# len(eval_scaled_min_100_cuttoff_100)/len(eval_scaled_min_100)\n",
    "eval_scaled_min_100_cuttoff_90.describe()"
   ]
  },
  {
   "cell_type": "code",
   "execution_count": null,
   "metadata": {},
   "outputs": [],
   "source": []
  }
 ],
 "metadata": {
  "kernelspec": {
   "display_name": "Python 3",
   "language": "python",
   "name": "python3"
  },
  "language_info": {
   "codemirror_mode": {
    "name": "ipython",
    "version": 3
   },
   "file_extension": ".py",
   "mimetype": "text/x-python",
   "name": "python",
   "nbconvert_exporter": "python",
   "pygments_lexer": "ipython3",
   "version": "3.7.3"
  }
 },
 "nbformat": 4,
 "nbformat_minor": 2
}
